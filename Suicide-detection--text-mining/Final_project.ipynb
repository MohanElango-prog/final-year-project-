{
 "cells": [
  {
   "cell_type": "code",
   "execution_count": 3,
   "metadata": {
    "scrolled": true
   },
   "outputs": [
    {
     "name": "stderr",
     "output_type": "stream",
     "text": [
      "[nltk_data] Error loading stopwords: <urlopen error [Errno 11001]\n",
      "[nltk_data]     getaddrinfo failed>\n"
     ]
    }
   ],
   "source": [
    "#Importing the Required Librarires\n",
    "import warnings \n",
    "warnings.filterwarnings('ignore')\n",
    "from datetime import datetime\n",
    "import re\n",
    "import string\n",
    "import pandas as pd\n",
    "import numpy as np\n",
    "import matplotlib.pyplot as plt\n",
    "import seaborn as sns\n",
    "from tabulate import tabulate\n",
    "from os import path\n",
    "import graphviz\n",
    "import spacy\n",
    "nlp = spacy.load('en_core_web_sm')\n",
    "import nltk\n",
    "nltk.download('stopwords')\n",
    "from PIL import Image\n",
    "from wordcloud import WordCloud, STOPWORDS, ImageColorGenerator\n",
    "from nltk.corpus import stopwords\n",
    "from nltk.tokenize import (word_tokenize,wordpunct_tokenize,TweetTokenizer)\n",
    "from sklearn.pipeline import Pipeline\n",
    "from sklearn import metrics\n",
    "from sklearn.model_selection import GridSearchCV\n",
    "from sklearn.base import TransformerMixin, BaseEstimator\n",
    "from sklearn.feature_extraction.text import CountVectorizer\n",
    "from sklearn.ensemble import RandomForestClassifier\n",
    "from sklearn.naive_bayes import MultinomialNB\n",
    "from sklearn.metrics import accuracy_score, confusion_matrix, classification_report\n",
    "from sklearn.linear_model import LogisticRegression\n",
    "from sklearn.tree import DecisionTreeClassifier, plot_tree\n",
    "from sklearn.svm import SVC\n",
    "from sklearn.svm import LinearSVC\n",
    "from sklearn import preprocessing\n",
    "from sklearn import tree\n",
    "from sklearn.feature_selection import SelectFromModel\n",
    "le = preprocessing.LabelEncoder()\n",
    "from sklearn.feature_extraction.text import TfidfVectorizer"
   ]
  },
  {
   "cell_type": "markdown",
   "metadata": {},
   "source": [
    "# Obtain data"
   ]
  },
  {
   "cell_type": "code",
   "execution_count": 4,
   "metadata": {},
   "outputs": [],
   "source": [
    "# datasets to load\n",
    "# https://www.kaggle.com/datasets/nikhileswarkomati/suicide-watch\n",
    "detectdf = pd.read_csv('Suicide_Detection.csv', index_col = 0)"
   ]
  },
  {
   "cell_type": "code",
   "execution_count": 5,
   "metadata": {},
   "outputs": [
    {
     "data": {
      "text/html": [
       "<div>\n",
       "<style scoped>\n",
       "    .dataframe tbody tr th:only-of-type {\n",
       "        vertical-align: middle;\n",
       "    }\n",
       "\n",
       "    .dataframe tbody tr th {\n",
       "        vertical-align: top;\n",
       "    }\n",
       "\n",
       "    .dataframe thead th {\n",
       "        text-align: right;\n",
       "    }\n",
       "</style>\n",
       "<table border=\"1\" class=\"dataframe\">\n",
       "  <thead>\n",
       "    <tr style=\"text-align: right;\">\n",
       "      <th></th>\n",
       "      <th>text</th>\n",
       "      <th>class</th>\n",
       "    </tr>\n",
       "  </thead>\n",
       "  <tbody>\n",
       "    <tr>\n",
       "      <th>2</th>\n",
       "      <td>Ex Wife Threatening SuicideRecently I left my ...</td>\n",
       "      <td>suicide</td>\n",
       "    </tr>\n",
       "    <tr>\n",
       "      <th>3</th>\n",
       "      <td>Am I weird I don't get affected by compliments...</td>\n",
       "      <td>non-suicide</td>\n",
       "    </tr>\n",
       "    <tr>\n",
       "      <th>4</th>\n",
       "      <td>Finally 2020 is almost over... So I can never ...</td>\n",
       "      <td>non-suicide</td>\n",
       "    </tr>\n",
       "    <tr>\n",
       "      <th>8</th>\n",
       "      <td>i need helpjust help me im crying so hard</td>\n",
       "      <td>suicide</td>\n",
       "    </tr>\n",
       "    <tr>\n",
       "      <th>9</th>\n",
       "      <td>I’m so lostHello, my name is Adam (16) and I’v...</td>\n",
       "      <td>suicide</td>\n",
       "    </tr>\n",
       "    <tr>\n",
       "      <th>...</th>\n",
       "      <td>...</td>\n",
       "      <td>...</td>\n",
       "    </tr>\n",
       "    <tr>\n",
       "      <th>348103</th>\n",
       "      <td>If you don't like rock then your not going to ...</td>\n",
       "      <td>non-suicide</td>\n",
       "    </tr>\n",
       "    <tr>\n",
       "      <th>348106</th>\n",
       "      <td>You how you can tell i have so many friends an...</td>\n",
       "      <td>non-suicide</td>\n",
       "    </tr>\n",
       "    <tr>\n",
       "      <th>348107</th>\n",
       "      <td>pee probably tastes like salty tea😏💦‼️ can som...</td>\n",
       "      <td>non-suicide</td>\n",
       "    </tr>\n",
       "    <tr>\n",
       "      <th>348108</th>\n",
       "      <td>The usual stuff you find hereI'm not posting t...</td>\n",
       "      <td>suicide</td>\n",
       "    </tr>\n",
       "    <tr>\n",
       "      <th>348110</th>\n",
       "      <td>I still haven't beaten the first boss in Hollo...</td>\n",
       "      <td>non-suicide</td>\n",
       "    </tr>\n",
       "  </tbody>\n",
       "</table>\n",
       "<p>232074 rows × 2 columns</p>\n",
       "</div>"
      ],
      "text/plain": [
       "                                                     text        class\n",
       "2       Ex Wife Threatening SuicideRecently I left my ...      suicide\n",
       "3       Am I weird I don't get affected by compliments...  non-suicide\n",
       "4       Finally 2020 is almost over... So I can never ...  non-suicide\n",
       "8               i need helpjust help me im crying so hard      suicide\n",
       "9       I’m so lostHello, my name is Adam (16) and I’v...      suicide\n",
       "...                                                   ...          ...\n",
       "348103  If you don't like rock then your not going to ...  non-suicide\n",
       "348106  You how you can tell i have so many friends an...  non-suicide\n",
       "348107  pee probably tastes like salty tea😏💦‼️ can som...  non-suicide\n",
       "348108  The usual stuff you find hereI'm not posting t...      suicide\n",
       "348110  I still haven't beaten the first boss in Hollo...  non-suicide\n",
       "\n",
       "[232074 rows x 2 columns]"
      ]
     },
     "execution_count": 5,
     "metadata": {},
     "output_type": "execute_result"
    }
   ],
   "source": [
    "detectdf"
   ]
  },
  {
   "cell_type": "code",
   "execution_count": 6,
   "metadata": {},
   "outputs": [
    {
     "data": {
      "text/plain": [
       "text     0\n",
       "class    0\n",
       "dtype: int64"
      ]
     },
     "execution_count": 6,
     "metadata": {},
     "output_type": "execute_result"
    }
   ],
   "source": [
    "detectdf.isna().sum()"
   ]
  },
  {
   "cell_type": "code",
   "execution_count": 7,
   "metadata": {},
   "outputs": [
    {
     "data": {
      "text/html": [
       "<div>\n",
       "<style scoped>\n",
       "    .dataframe tbody tr th:only-of-type {\n",
       "        vertical-align: middle;\n",
       "    }\n",
       "\n",
       "    .dataframe tbody tr th {\n",
       "        vertical-align: top;\n",
       "    }\n",
       "\n",
       "    .dataframe thead th {\n",
       "        text-align: right;\n",
       "    }\n",
       "</style>\n",
       "<table border=\"1\" class=\"dataframe\">\n",
       "  <thead>\n",
       "    <tr style=\"text-align: right;\">\n",
       "      <th></th>\n",
       "      <th>text</th>\n",
       "      <th>class</th>\n",
       "    </tr>\n",
       "  </thead>\n",
       "  <tbody>\n",
       "    <tr>\n",
       "      <th>2</th>\n",
       "      <td>Ex Wife Threatening SuicideRecently I left my ...</td>\n",
       "      <td>suicide</td>\n",
       "    </tr>\n",
       "    <tr>\n",
       "      <th>8</th>\n",
       "      <td>i need helpjust help me im crying so hard</td>\n",
       "      <td>suicide</td>\n",
       "    </tr>\n",
       "    <tr>\n",
       "      <th>9</th>\n",
       "      <td>I’m so lostHello, my name is Adam (16) and I’v...</td>\n",
       "      <td>suicide</td>\n",
       "    </tr>\n",
       "    <tr>\n",
       "      <th>11</th>\n",
       "      <td>Honetly idkI dont know what im even doing here...</td>\n",
       "      <td>suicide</td>\n",
       "    </tr>\n",
       "    <tr>\n",
       "      <th>12</th>\n",
       "      <td>[Trigger warning] Excuse for self inflicted bu...</td>\n",
       "      <td>suicide</td>\n",
       "    </tr>\n",
       "  </tbody>\n",
       "</table>\n",
       "</div>"
      ],
      "text/plain": [
       "                                                 text    class\n",
       "2   Ex Wife Threatening SuicideRecently I left my ...  suicide\n",
       "8           i need helpjust help me im crying so hard  suicide\n",
       "9   I’m so lostHello, my name is Adam (16) and I’v...  suicide\n",
       "11  Honetly idkI dont know what im even doing here...  suicide\n",
       "12  [Trigger warning] Excuse for self inflicted bu...  suicide"
      ]
     },
     "execution_count": 7,
     "metadata": {},
     "output_type": "execute_result"
    }
   ],
   "source": [
    "suicide = detectdf.loc[detectdf['class'] == 'suicide']\n",
    "suicide.head()"
   ]
  },
  {
   "cell_type": "code",
   "execution_count": 8,
   "metadata": {
    "tags": []
   },
   "outputs": [],
   "source": [
    "suicide = suicide.sample(n=10000) "
   ]
  },
  {
   "cell_type": "code",
   "execution_count": 9,
   "metadata": {},
   "outputs": [
    {
     "data": {
      "text/html": [
       "<div>\n",
       "<style scoped>\n",
       "    .dataframe tbody tr th:only-of-type {\n",
       "        vertical-align: middle;\n",
       "    }\n",
       "\n",
       "    .dataframe tbody tr th {\n",
       "        vertical-align: top;\n",
       "    }\n",
       "\n",
       "    .dataframe thead th {\n",
       "        text-align: right;\n",
       "    }\n",
       "</style>\n",
       "<table border=\"1\" class=\"dataframe\">\n",
       "  <thead>\n",
       "    <tr style=\"text-align: right;\">\n",
       "      <th></th>\n",
       "      <th>text</th>\n",
       "      <th>class</th>\n",
       "    </tr>\n",
       "  </thead>\n",
       "  <tbody>\n",
       "    <tr>\n",
       "      <th>3</th>\n",
       "      <td>Am I weird I don't get affected by compliments...</td>\n",
       "      <td>non-suicide</td>\n",
       "    </tr>\n",
       "    <tr>\n",
       "      <th>4</th>\n",
       "      <td>Finally 2020 is almost over... So I can never ...</td>\n",
       "      <td>non-suicide</td>\n",
       "    </tr>\n",
       "    <tr>\n",
       "      <th>16</th>\n",
       "      <td>Everyone wants to be \"edgy\" and it's making me...</td>\n",
       "      <td>non-suicide</td>\n",
       "    </tr>\n",
       "    <tr>\n",
       "      <th>24</th>\n",
       "      <td>Fuck the verizon smart family app I can’t even...</td>\n",
       "      <td>non-suicide</td>\n",
       "    </tr>\n",
       "    <tr>\n",
       "      <th>26</th>\n",
       "      <td>Well, Im screwed. I locked myself in the schoo...</td>\n",
       "      <td>non-suicide</td>\n",
       "    </tr>\n",
       "  </tbody>\n",
       "</table>\n",
       "</div>"
      ],
      "text/plain": [
       "                                                 text        class\n",
       "3   Am I weird I don't get affected by compliments...  non-suicide\n",
       "4   Finally 2020 is almost over... So I can never ...  non-suicide\n",
       "16  Everyone wants to be \"edgy\" and it's making me...  non-suicide\n",
       "24  Fuck the verizon smart family app I can’t even...  non-suicide\n",
       "26  Well, Im screwed. I locked myself in the schoo...  non-suicide"
      ]
     },
     "execution_count": 9,
     "metadata": {},
     "output_type": "execute_result"
    }
   ],
   "source": [
    "non_suicide = detectdf.loc[detectdf['class'] == 'non-suicide']\n",
    "non_suicide.head()"
   ]
  },
  {
   "cell_type": "code",
   "execution_count": 10,
   "metadata": {},
   "outputs": [],
   "source": [
    "non_suicide = non_suicide.sample(n=10000)"
   ]
  },
  {
   "cell_type": "code",
   "execution_count": 11,
   "metadata": {},
   "outputs": [],
   "source": [
    "detectdf = pd.concat([suicide, non_suicide], axis=0)"
   ]
  },
  {
   "cell_type": "code",
   "execution_count": 12,
   "metadata": {},
   "outputs": [],
   "source": [
    "detectdf = detectdf.reset_index()\n",
    "detectdf = detectdf.drop(['index'], axis=1)"
   ]
  },
  {
   "cell_type": "code",
   "execution_count": 13,
   "metadata": {},
   "outputs": [
    {
     "data": {
      "text/html": [
       "<div>\n",
       "<style scoped>\n",
       "    .dataframe tbody tr th:only-of-type {\n",
       "        vertical-align: middle;\n",
       "    }\n",
       "\n",
       "    .dataframe tbody tr th {\n",
       "        vertical-align: top;\n",
       "    }\n",
       "\n",
       "    .dataframe thead th {\n",
       "        text-align: right;\n",
       "    }\n",
       "</style>\n",
       "<table border=\"1\" class=\"dataframe\">\n",
       "  <thead>\n",
       "    <tr style=\"text-align: right;\">\n",
       "      <th></th>\n",
       "      <th>text</th>\n",
       "      <th>class</th>\n",
       "    </tr>\n",
       "  </thead>\n",
       "  <tbody>\n",
       "    <tr>\n",
       "      <th>0</th>\n",
       "      <td>How do you minimize the pain caused by hanging...</td>\n",
       "      <td>suicide</td>\n",
       "    </tr>\n",
       "    <tr>\n",
       "      <th>1</th>\n",
       "      <td>breakupthe one thing that made me happy is gon...</td>\n",
       "      <td>suicide</td>\n",
       "    </tr>\n",
       "    <tr>\n",
       "      <th>2</th>\n",
       "      <td>A question for the older crowd...When you were...</td>\n",
       "      <td>suicide</td>\n",
       "    </tr>\n",
       "    <tr>\n",
       "      <th>3</th>\n",
       "      <td>You all hate me for no reason\\n \\nI've been st...</td>\n",
       "      <td>suicide</td>\n",
       "    </tr>\n",
       "    <tr>\n",
       "      <th>4</th>\n",
       "      <td>I've lost the will to live I think...I feel li...</td>\n",
       "      <td>suicide</td>\n",
       "    </tr>\n",
       "    <tr>\n",
       "      <th>...</th>\n",
       "      <td>...</td>\n",
       "      <td>...</td>\n",
       "    </tr>\n",
       "    <tr>\n",
       "      <th>19995</th>\n",
       "      <td>My sister is an a-hole She sits over hunched a...</td>\n",
       "      <td>non-suicide</td>\n",
       "    </tr>\n",
       "    <tr>\n",
       "      <th>19996</th>\n",
       "      <td>my dad is actually smart asf he looked at this...</td>\n",
       "      <td>non-suicide</td>\n",
       "    </tr>\n",
       "    <tr>\n",
       "      <th>19997</th>\n",
       "      <td>Hey girls, i have a gunpla real grade tallgees...</td>\n",
       "      <td>non-suicide</td>\n",
       "    </tr>\n",
       "    <tr>\n",
       "      <th>19998</th>\n",
       "      <td>I'm not turning in an assignment for the first...</td>\n",
       "      <td>non-suicide</td>\n",
       "    </tr>\n",
       "    <tr>\n",
       "      <th>19999</th>\n",
       "      <td>idk why, but I just took a shower 2 days ago a...</td>\n",
       "      <td>non-suicide</td>\n",
       "    </tr>\n",
       "  </tbody>\n",
       "</table>\n",
       "<p>20000 rows × 2 columns</p>\n",
       "</div>"
      ],
      "text/plain": [
       "                                                    text        class\n",
       "0      How do you minimize the pain caused by hanging...      suicide\n",
       "1      breakupthe one thing that made me happy is gon...      suicide\n",
       "2      A question for the older crowd...When you were...      suicide\n",
       "3      You all hate me for no reason\\n \\nI've been st...      suicide\n",
       "4      I've lost the will to live I think...I feel li...      suicide\n",
       "...                                                  ...          ...\n",
       "19995  My sister is an a-hole She sits over hunched a...  non-suicide\n",
       "19996  my dad is actually smart asf he looked at this...  non-suicide\n",
       "19997  Hey girls, i have a gunpla real grade tallgees...  non-suicide\n",
       "19998  I'm not turning in an assignment for the first...  non-suicide\n",
       "19999  idk why, but I just took a shower 2 days ago a...  non-suicide\n",
       "\n",
       "[20000 rows x 2 columns]"
      ]
     },
     "execution_count": 13,
     "metadata": {},
     "output_type": "execute_result"
    }
   ],
   "source": [
    "detectdf"
   ]
  },
  {
   "cell_type": "markdown",
   "metadata": {},
   "source": [
    "# preprocessing"
   ]
  },
  {
   "cell_type": "code",
   "execution_count": 14,
   "metadata": {},
   "outputs": [],
   "source": [
    "#Get the nltk.corpus stopwords ready\n",
    "nltkstopwords = stopwords.words('english')\n",
    "other_words = ['said','make','going','go','one','say','way', 'ask', 'filler', \n",
    "               'lt', 'gt', 'sus', \"I've\", 'im', \"i'm\", 'made', 'let', 'm', 's',\n",
    "               't', 've', 'ni', 'thing']\n",
    "stopwords_set = list(nltkstopwords) + other_words"
   ]
  },
  {
   "cell_type": "code",
   "execution_count": 15,
   "metadata": {},
   "outputs": [],
   "source": [
    "class TextPreprocessor(TransformerMixin):\n",
    "    def __init__(self, text_attribute):\n",
    "        self.text_attribute = text_attribute\n",
    "        \n",
    "    def transform(self, X, *_):\n",
    "        X_copy = X.copy()\n",
    "        X_copy[self.text_attribute] = X_copy[self.text_attribute].apply(self._preprocess_text)\n",
    "        return X_copy\n",
    "    \n",
    "    def _preprocess_text(self, text):\n",
    "        return self._lemmatize(self._leave_letters_only(self._clean(text)))\n",
    "    \n",
    "    def _clean(self, text):\n",
    "        bad_symbols = '!\"#%&\\'*+,-<=>?[\\\\]^_`{|}~'\n",
    "        text_without_symbols = text.translate(str.maketrans('', '', bad_symbols))\n",
    "\n",
    "        text_without_bad_words = ''\n",
    "        for line in text_without_symbols.split('\\n'):\n",
    "            if not line.lower().startswith('from:') and not line.lower().endswith('writes:'):\n",
    "                text_without_bad_words += line + '\\n'\n",
    "\n",
    "        clean_text = text_without_bad_words\n",
    "        email_regex = r'([a-zA-Z0-9_.+-]+@[a-zA-Z0-9-]+\\.[a-zA-Z0-9-.]+)'\n",
    "        regexes_to_remove = [email_regex, r'Subject:', r'Re:']\n",
    "        for r in regexes_to_remove:\n",
    "            clean_text = re.sub(r, '', clean_text)\n",
    "\n",
    "        return clean_text\n",
    "    \n",
    "    def _leave_letters_only(self, text):\n",
    "        text_without_punctuation = text.translate(str.maketrans('', '', string.punctuation))\n",
    "        return ' '.join(re.findall(\"[a-zA-Z]+\", text_without_punctuation))\n",
    "    \n",
    "    def _lemmatize(self, text):\n",
    "        doc = nlp(text)\n",
    "        words = [x.lemma_ for x in [y for y in doc if not y.is_stop and y.pos_ != 'PUNCT' \n",
    "                                    and y.pos_ != 'PART' and y.pos_ != 'X']]\n",
    "        return ' '.join(words)\n",
    "    \n",
    "    def fit(self, *_):\n",
    "        return self"
   ]
  },
  {
   "cell_type": "code",
   "execution_count": 16,
   "metadata": {},
   "outputs": [
    {
     "name": "stdout",
     "output_type": "stream",
     "text": [
      "Duration: 0:06:14.776706\n"
     ]
    }
   ],
   "source": [
    "start_time = datetime.now()\n",
    "text_preprocessor = TextPreprocessor(text_attribute='text')\n",
    "df_preprocessed = text_preprocessor.transform(detectdf)\n",
    "end_time = datetime.now()\n",
    "print('Duration: {}'.format(end_time - start_time))"
   ]
  },
  {
   "cell_type": "code",
   "execution_count": 17,
   "metadata": {},
   "outputs": [
    {
     "data": {
      "text/html": [
       "<div>\n",
       "<style scoped>\n",
       "    .dataframe tbody tr th:only-of-type {\n",
       "        vertical-align: middle;\n",
       "    }\n",
       "\n",
       "    .dataframe tbody tr th {\n",
       "        vertical-align: top;\n",
       "    }\n",
       "\n",
       "    .dataframe thead th {\n",
       "        text-align: right;\n",
       "    }\n",
       "</style>\n",
       "<table border=\"1\" class=\"dataframe\">\n",
       "  <thead>\n",
       "    <tr style=\"text-align: right;\">\n",
       "      <th></th>\n",
       "      <th>text</th>\n",
       "      <th>class</th>\n",
       "    </tr>\n",
       "  </thead>\n",
       "  <tbody>\n",
       "    <tr>\n",
       "      <th>0</th>\n",
       "      <td>minimize pain cause hangingive hear painful wa...</td>\n",
       "      <td>suicide</td>\n",
       "    </tr>\n",
       "    <tr>\n",
       "      <th>1</th>\n",
       "      <td>breakupthe thing happy go leave m get unwell t...</td>\n",
       "      <td>suicide</td>\n",
       "    </tr>\n",
       "    <tr>\n",
       "      <th>2</th>\n",
       "      <td>question old crowdwhen life tell start feel lo...</td>\n",
       "      <td>suicide</td>\n",
       "    </tr>\n",
       "    <tr>\n",
       "      <th>3</th>\n",
       "      <td>hate reason ve struggle year understand people...</td>\n",
       "      <td>suicide</td>\n",
       "    </tr>\n",
       "    <tr>\n",
       "      <th>4</th>\n",
       "      <td>ve lose live thinkI feel like ve lose live yea...</td>\n",
       "      <td>suicide</td>\n",
       "    </tr>\n",
       "    <tr>\n",
       "      <th>...</th>\n",
       "      <td>...</td>\n",
       "      <td>...</td>\n",
       "    </tr>\n",
       "    <tr>\n",
       "      <th>19995</th>\n",
       "      <td>sister ahole sit hunch day play roblox complai...</td>\n",
       "      <td>non-suicide</td>\n",
       "    </tr>\n",
       "    <tr>\n",
       "      <th>19996</th>\n",
       "      <td>dad actually smart asf look hw assignment like...</td>\n",
       "      <td>non-suicide</td>\n",
       "    </tr>\n",
       "    <tr>\n",
       "      <th>19997</th>\n",
       "      <td>hey girl gunpla real grade tallgeese pls date</td>\n",
       "      <td>non-suicide</td>\n",
       "    </tr>\n",
       "    <tr>\n",
       "      <th>19998</th>\n",
       "      <td>m turn assignment time meeting High School Suc...</td>\n",
       "      <td>non-suicide</td>\n",
       "    </tr>\n",
       "    <tr>\n",
       "      <th>19999</th>\n",
       "      <td>idk take shower day ago m musty happen</td>\n",
       "      <td>non-suicide</td>\n",
       "    </tr>\n",
       "  </tbody>\n",
       "</table>\n",
       "<p>20000 rows × 2 columns</p>\n",
       "</div>"
      ],
      "text/plain": [
       "                                                    text        class\n",
       "0      minimize pain cause hangingive hear painful wa...      suicide\n",
       "1      breakupthe thing happy go leave m get unwell t...      suicide\n",
       "2      question old crowdwhen life tell start feel lo...      suicide\n",
       "3      hate reason ve struggle year understand people...      suicide\n",
       "4      ve lose live thinkI feel like ve lose live yea...      suicide\n",
       "...                                                  ...          ...\n",
       "19995  sister ahole sit hunch day play roblox complai...  non-suicide\n",
       "19996  dad actually smart asf look hw assignment like...  non-suicide\n",
       "19997      hey girl gunpla real grade tallgeese pls date  non-suicide\n",
       "19998  m turn assignment time meeting High School Suc...  non-suicide\n",
       "19999             idk take shower day ago m musty happen  non-suicide\n",
       "\n",
       "[20000 rows x 2 columns]"
      ]
     },
     "execution_count": 17,
     "metadata": {},
     "output_type": "execute_result"
    }
   ],
   "source": [
    "df_preprocessed"
   ]
  },
  {
   "cell_type": "code",
   "execution_count": 18,
   "metadata": {},
   "outputs": [],
   "source": [
    "df_preprocessed.to_csv('suicide_preprocessed.csv')  "
   ]
  },
  {
   "cell_type": "markdown",
   "metadata": {
    "tags": []
   },
   "source": [
    "# Split train/test data"
   ]
  },
  {
   "cell_type": "code",
   "execution_count": 19,
   "metadata": {
    "tags": []
   },
   "outputs": [],
   "source": [
    "# Split data into training and test sets\n",
    "from sklearn.model_selection import train_test_split\n",
    "X = df_preprocessed['text']\n",
    "y = df_preprocessed['class']\n",
    "\n",
    "X_train, X_test, y_train, y_test = train_test_split(X, y, test_size=0.2, stratify = None)"
   ]
  },
  {
   "cell_type": "markdown",
   "metadata": {},
   "source": [
    "# Vectorization"
   ]
  },
  {
   "cell_type": "markdown",
   "metadata": {},
   "source": [
    "### unigram/bigram count vectorizer"
   ]
  },
  {
   "cell_type": "code",
   "execution_count": 20,
   "metadata": {},
   "outputs": [],
   "source": [
    "#  unigram term frequency vectorizer\n",
    "unigram_count_vectorizer = CountVectorizer(binary=False, ngram_range=(1,1), token_pattern=r'\\b[^\\d\\W]+\\b')\n",
    "\n",
    "X_uni_cv_train = unigram_count_vectorizer.fit_transform(X_train)\n",
    "X_uni_cv_test = unigram_count_vectorizer.transform(X_test)\n",
    "\n",
    "#  bigram frequency vectorizer\n",
    "bigram_count_vectorizer = CountVectorizer(binary=False, ngram_range=(2,2), token_pattern=r'\\b[^\\d\\W]+\\b')\n",
    "\n",
    "X_bi_cv_train = bigram_count_vectorizer.fit_transform(X_train)\n",
    "X_bi_cv_test = bigram_count_vectorizer.transform(X_test)\n",
    "\n",
    "#  unigram term frequency vectorizer, remove stop words\n",
    "unigram_count_stopwords_vectorizer = CountVectorizer(binary=False, ngram_range=(1,1)\n",
    "                                                     , stop_words=stopwords_set, token_pattern=r'\\b[^\\d\\W]+\\b')\n",
    "\n",
    "X_uni_cv_st_train = unigram_count_stopwords_vectorizer.fit_transform(X_train)\n",
    "X_uni_cv_st_test = unigram_count_stopwords_vectorizer.transform(X_test)\n",
    "\n",
    "#  bigram frequency vectorizer, remove stop words\n",
    "bigram_count_stopwords_vectorizer = CountVectorizer(binary=False, ngram_range=(2,2)\n",
    "                                                    , stop_words=stopwords_set, token_pattern=r'\\b[^\\d\\W]+\\b')\n",
    "\n",
    "X_bi_cv_st_train = bigram_count_stopwords_vectorizer.fit_transform(X_train)\n",
    "X_bi_cv_st_test = bigram_count_stopwords_vectorizer.transform(X_test)"
   ]
  },
  {
   "cell_type": "markdown",
   "metadata": {},
   "source": [
    "### unigram/bigram boolean vectorizer"
   ]
  },
  {
   "cell_type": "code",
   "execution_count": 21,
   "metadata": {},
   "outputs": [],
   "source": [
    "#  unigram boolean vectorizer\n",
    "unigram_bool_vectorizer = CountVectorizer(binary=True, ngram_range=(1,1),token_pattern=r'\\b[^\\d\\W]+\\b')\n",
    "\n",
    "X_uni_bv_train = unigram_bool_vectorizer.fit_transform(X_train)\n",
    "X_uni_bv_test = unigram_bool_vectorizer.transform(X_test)\n",
    "\n",
    "#  bigram boolean vectorizer\n",
    "bigram_bool_vectorizer = CountVectorizer(binary=True, ngram_range=(2,2), token_pattern=r'\\b[^\\d\\W]+\\b')\n",
    "\n",
    "X_bi_bv_train = bigram_bool_vectorizer.fit_transform(X_train)\n",
    "X_bi_bv_test = bigram_bool_vectorizer.transform(X_test)\n",
    "\n",
    "#  unigram boolean vectorizer, remove stop words\n",
    "unigram_bool_stopwords_vectorizer = CountVectorizer(binary=True, ngram_range=(1,1), \n",
    "                                                    stop_words=stopwords_set, token_pattern=r'\\b[^\\d\\W]+\\b')\n",
    "\n",
    "X_uni_bv_st_train = unigram_bool_vectorizer.fit_transform(X_train)\n",
    "X_uni_bv_st_test = unigram_bool_vectorizer.transform(X_test)\n",
    "\n",
    "#  bigram boolean vectorizer, remove stop words\n",
    "bigram_bool_stopwords_vectorizer = CountVectorizer(binary=True, ngram_range=(2,2), \n",
    "                                                   stop_words=stopwords_set, token_pattern=r'\\b[^\\d\\W]+\\b')\n",
    "\n",
    "X_bi_bv_st_train = bigram_bool_vectorizer.fit_transform(X_train)\n",
    "X_bi_bv_st_test = bigram_bool_vectorizer.transform(X_test)"
   ]
  },
  {
   "cell_type": "markdown",
   "metadata": {},
   "source": [
    "### TFIDF"
   ]
  },
  {
   "cell_type": "code",
   "execution_count": 22,
   "metadata": {},
   "outputs": [],
   "source": [
    "tfidf_vectorizer = TfidfVectorizer(max_features=10000)\n",
    "tfidf_vectorizer_n12 = TfidfVectorizer(max_features=10000, ngram_range=(1,2))\n",
    "\n",
    "X_tfidf_train = tfidf_vectorizer.fit_transform(X_train)\n",
    "X_tfidf_test = tfidf_vectorizer.transform(X_test)\n",
    "\n",
    "X_tfidf_train_n12= tfidf_vectorizer_n12.fit_transform(X_train)\n",
    "X_tfidf_test_n12=tfidf_vectorizer_n12.transform(X_test)"
   ]
  },
  {
   "cell_type": "markdown",
   "metadata": {},
   "source": [
    "# Tokenize and Vectorize for DT and RF"
   ]
  },
  {
   "cell_type": "code",
   "execution_count": 23,
   "metadata": {},
   "outputs": [],
   "source": [
    "corpusLIST=[]\n",
    "LabelLIST=[]\n",
    "\n",
    "for nexttext, nextlabel in zip(df_preprocessed[\"text\"], df_preprocessed[\"class\"]):\n",
    "    corpusLIST.append(nexttext)\n",
    "    LabelLIST.append(nextlabel)"
   ]
  },
  {
   "cell_type": "code",
   "execution_count": 24,
   "metadata": {},
   "outputs": [],
   "source": [
    "### Vectorize\n",
    "## unigram term frequency vectorizer, remove stop words\n",
    "MyCountV=CountVectorizer(binary=False, \n",
    "                         ngram_range=(1,1),\n",
    "                         lowercase=True, \n",
    "                         stop_words = stopwords_set,\n",
    "                         max_features=50)\n",
    "\n",
    "\n",
    "## Use your CV\n",
    "MyDTM = MyCountV.fit_transform(corpusLIST)  # create a sparse matrix\n",
    "# print(type(MyDTM))\n",
    "\n",
    "\n",
    "ColumnNames=MyCountV.get_feature_names()\n",
    "#print(type(ColumnNames))\n",
    "\n",
    "\n",
    "## Build the data frame\n",
    "MyDTM_DF=pd.DataFrame(MyDTM.toarray(),columns=ColumnNames)\n",
    "\n",
    "## Convert the labels from list to df\n",
    "Labels_DF = pd.DataFrame(LabelLIST,columns=['LABEL'])\n",
    "\n",
    "## Check your new DF and you new Labels df:\n",
    "#print(\"Labels\\n\")\n",
    "# print(Labels_DF)\n",
    "#print(\"News df\\n\")\n",
    "# print(MyDTM_DF.iloc[:,0:6])\n",
    "\n",
    "##Save original DF - without the lables\n",
    "My_Orig_DF=MyDTM_DF\n",
    "# print(My_Orig_DF)\n",
    "######################\n",
    "## AND - just to make sure our dataframe is fair\n",
    "## let's remove columns called:\n",
    "## food, bitcoin, and sports (as these are label names)\n",
    "######################\n",
    "#MyDTM_DF=MyDTM_DF.drop(topics, axis=1)\n",
    "\n",
    "\n",
    "## Now - let's create a complete and labeled\n",
    "## dataframe:\n",
    "dfs = [Labels_DF, MyDTM_DF]\n",
    "#print(dfs)\n",
    "\n",
    "Final_DF_Labeled = pd.concat(dfs,axis=1, join='inner')\n",
    "## DF with labels\n",
    "#print(Final_DF_Labeled)"
   ]
  },
  {
   "cell_type": "code",
   "execution_count": 25,
   "metadata": {},
   "outputs": [
    {
     "data": {
      "text/html": [
       "<div>\n",
       "<style scoped>\n",
       "    .dataframe tbody tr th:only-of-type {\n",
       "        vertical-align: middle;\n",
       "    }\n",
       "\n",
       "    .dataframe tbody tr th {\n",
       "        vertical-align: top;\n",
       "    }\n",
       "\n",
       "    .dataframe thead th {\n",
       "        text-align: right;\n",
       "    }\n",
       "</style>\n",
       "<table border=\"1\" class=\"dataframe\">\n",
       "  <thead>\n",
       "    <tr style=\"text-align: right;\">\n",
       "      <th></th>\n",
       "      <th>LABEL</th>\n",
       "      <th>anymore</th>\n",
       "      <th>bad</th>\n",
       "      <th>care</th>\n",
       "      <th>come</th>\n",
       "      <th>day</th>\n",
       "      <th>die</th>\n",
       "      <th>end</th>\n",
       "      <th>family</th>\n",
       "      <th>feel</th>\n",
       "      <th>...</th>\n",
       "      <th>take</th>\n",
       "      <th>talk</th>\n",
       "      <th>tell</th>\n",
       "      <th>think</th>\n",
       "      <th>time</th>\n",
       "      <th>try</th>\n",
       "      <th>want</th>\n",
       "      <th>well</th>\n",
       "      <th>work</th>\n",
       "      <th>year</th>\n",
       "    </tr>\n",
       "  </thead>\n",
       "  <tbody>\n",
       "    <tr>\n",
       "      <th>0</th>\n",
       "      <td>suicide</td>\n",
       "      <td>0</td>\n",
       "      <td>0</td>\n",
       "      <td>0</td>\n",
       "      <td>0</td>\n",
       "      <td>0</td>\n",
       "      <td>0</td>\n",
       "      <td>0</td>\n",
       "      <td>0</td>\n",
       "      <td>0</td>\n",
       "      <td>...</td>\n",
       "      <td>0</td>\n",
       "      <td>0</td>\n",
       "      <td>0</td>\n",
       "      <td>0</td>\n",
       "      <td>0</td>\n",
       "      <td>0</td>\n",
       "      <td>0</td>\n",
       "      <td>0</td>\n",
       "      <td>0</td>\n",
       "      <td>0</td>\n",
       "    </tr>\n",
       "    <tr>\n",
       "      <th>1</th>\n",
       "      <td>suicide</td>\n",
       "      <td>0</td>\n",
       "      <td>0</td>\n",
       "      <td>0</td>\n",
       "      <td>0</td>\n",
       "      <td>0</td>\n",
       "      <td>0</td>\n",
       "      <td>1</td>\n",
       "      <td>0</td>\n",
       "      <td>0</td>\n",
       "      <td>...</td>\n",
       "      <td>0</td>\n",
       "      <td>0</td>\n",
       "      <td>0</td>\n",
       "      <td>0</td>\n",
       "      <td>0</td>\n",
       "      <td>0</td>\n",
       "      <td>2</td>\n",
       "      <td>0</td>\n",
       "      <td>0</td>\n",
       "      <td>1</td>\n",
       "    </tr>\n",
       "    <tr>\n",
       "      <th>2</th>\n",
       "      <td>suicide</td>\n",
       "      <td>0</td>\n",
       "      <td>0</td>\n",
       "      <td>0</td>\n",
       "      <td>0</td>\n",
       "      <td>0</td>\n",
       "      <td>0</td>\n",
       "      <td>0</td>\n",
       "      <td>0</td>\n",
       "      <td>1</td>\n",
       "      <td>...</td>\n",
       "      <td>0</td>\n",
       "      <td>0</td>\n",
       "      <td>1</td>\n",
       "      <td>0</td>\n",
       "      <td>0</td>\n",
       "      <td>0</td>\n",
       "      <td>1</td>\n",
       "      <td>0</td>\n",
       "      <td>0</td>\n",
       "      <td>0</td>\n",
       "    </tr>\n",
       "    <tr>\n",
       "      <th>3</th>\n",
       "      <td>suicide</td>\n",
       "      <td>0</td>\n",
       "      <td>0</td>\n",
       "      <td>0</td>\n",
       "      <td>0</td>\n",
       "      <td>0</td>\n",
       "      <td>0</td>\n",
       "      <td>0</td>\n",
       "      <td>1</td>\n",
       "      <td>1</td>\n",
       "      <td>...</td>\n",
       "      <td>0</td>\n",
       "      <td>0</td>\n",
       "      <td>0</td>\n",
       "      <td>5</td>\n",
       "      <td>2</td>\n",
       "      <td>0</td>\n",
       "      <td>0</td>\n",
       "      <td>0</td>\n",
       "      <td>0</td>\n",
       "      <td>1</td>\n",
       "    </tr>\n",
       "    <tr>\n",
       "      <th>4</th>\n",
       "      <td>suicide</td>\n",
       "      <td>0</td>\n",
       "      <td>0</td>\n",
       "      <td>0</td>\n",
       "      <td>0</td>\n",
       "      <td>0</td>\n",
       "      <td>0</td>\n",
       "      <td>1</td>\n",
       "      <td>0</td>\n",
       "      <td>1</td>\n",
       "      <td>...</td>\n",
       "      <td>0</td>\n",
       "      <td>0</td>\n",
       "      <td>0</td>\n",
       "      <td>0</td>\n",
       "      <td>1</td>\n",
       "      <td>0</td>\n",
       "      <td>0</td>\n",
       "      <td>0</td>\n",
       "      <td>0</td>\n",
       "      <td>1</td>\n",
       "    </tr>\n",
       "    <tr>\n",
       "      <th>...</th>\n",
       "      <td>...</td>\n",
       "      <td>...</td>\n",
       "      <td>...</td>\n",
       "      <td>...</td>\n",
       "      <td>...</td>\n",
       "      <td>...</td>\n",
       "      <td>...</td>\n",
       "      <td>...</td>\n",
       "      <td>...</td>\n",
       "      <td>...</td>\n",
       "      <td>...</td>\n",
       "      <td>...</td>\n",
       "      <td>...</td>\n",
       "      <td>...</td>\n",
       "      <td>...</td>\n",
       "      <td>...</td>\n",
       "      <td>...</td>\n",
       "      <td>...</td>\n",
       "      <td>...</td>\n",
       "      <td>...</td>\n",
       "      <td>...</td>\n",
       "    </tr>\n",
       "    <tr>\n",
       "      <th>19995</th>\n",
       "      <td>non-suicide</td>\n",
       "      <td>0</td>\n",
       "      <td>0</td>\n",
       "      <td>0</td>\n",
       "      <td>0</td>\n",
       "      <td>1</td>\n",
       "      <td>0</td>\n",
       "      <td>0</td>\n",
       "      <td>0</td>\n",
       "      <td>0</td>\n",
       "      <td>...</td>\n",
       "      <td>0</td>\n",
       "      <td>0</td>\n",
       "      <td>0</td>\n",
       "      <td>0</td>\n",
       "      <td>1</td>\n",
       "      <td>0</td>\n",
       "      <td>0</td>\n",
       "      <td>0</td>\n",
       "      <td>0</td>\n",
       "      <td>0</td>\n",
       "    </tr>\n",
       "    <tr>\n",
       "      <th>19996</th>\n",
       "      <td>non-suicide</td>\n",
       "      <td>0</td>\n",
       "      <td>0</td>\n",
       "      <td>0</td>\n",
       "      <td>0</td>\n",
       "      <td>0</td>\n",
       "      <td>0</td>\n",
       "      <td>0</td>\n",
       "      <td>0</td>\n",
       "      <td>0</td>\n",
       "      <td>...</td>\n",
       "      <td>0</td>\n",
       "      <td>0</td>\n",
       "      <td>0</td>\n",
       "      <td>0</td>\n",
       "      <td>0</td>\n",
       "      <td>0</td>\n",
       "      <td>0</td>\n",
       "      <td>0</td>\n",
       "      <td>0</td>\n",
       "      <td>0</td>\n",
       "    </tr>\n",
       "    <tr>\n",
       "      <th>19997</th>\n",
       "      <td>non-suicide</td>\n",
       "      <td>0</td>\n",
       "      <td>0</td>\n",
       "      <td>0</td>\n",
       "      <td>0</td>\n",
       "      <td>0</td>\n",
       "      <td>0</td>\n",
       "      <td>0</td>\n",
       "      <td>0</td>\n",
       "      <td>0</td>\n",
       "      <td>...</td>\n",
       "      <td>0</td>\n",
       "      <td>0</td>\n",
       "      <td>0</td>\n",
       "      <td>0</td>\n",
       "      <td>0</td>\n",
       "      <td>0</td>\n",
       "      <td>0</td>\n",
       "      <td>0</td>\n",
       "      <td>0</td>\n",
       "      <td>0</td>\n",
       "    </tr>\n",
       "    <tr>\n",
       "      <th>19998</th>\n",
       "      <td>non-suicide</td>\n",
       "      <td>0</td>\n",
       "      <td>0</td>\n",
       "      <td>0</td>\n",
       "      <td>0</td>\n",
       "      <td>0</td>\n",
       "      <td>0</td>\n",
       "      <td>1</td>\n",
       "      <td>0</td>\n",
       "      <td>0</td>\n",
       "      <td>...</td>\n",
       "      <td>0</td>\n",
       "      <td>0</td>\n",
       "      <td>0</td>\n",
       "      <td>1</td>\n",
       "      <td>1</td>\n",
       "      <td>0</td>\n",
       "      <td>0</td>\n",
       "      <td>0</td>\n",
       "      <td>0</td>\n",
       "      <td>0</td>\n",
       "    </tr>\n",
       "    <tr>\n",
       "      <th>19999</th>\n",
       "      <td>non-suicide</td>\n",
       "      <td>0</td>\n",
       "      <td>0</td>\n",
       "      <td>0</td>\n",
       "      <td>0</td>\n",
       "      <td>1</td>\n",
       "      <td>0</td>\n",
       "      <td>0</td>\n",
       "      <td>0</td>\n",
       "      <td>0</td>\n",
       "      <td>...</td>\n",
       "      <td>1</td>\n",
       "      <td>0</td>\n",
       "      <td>0</td>\n",
       "      <td>0</td>\n",
       "      <td>0</td>\n",
       "      <td>0</td>\n",
       "      <td>0</td>\n",
       "      <td>0</td>\n",
       "      <td>0</td>\n",
       "      <td>0</td>\n",
       "    </tr>\n",
       "  </tbody>\n",
       "</table>\n",
       "<p>20000 rows × 51 columns</p>\n",
       "</div>"
      ],
      "text/plain": [
       "             LABEL  anymore  bad  care  come  day  die  end  family  feel  \\\n",
       "0          suicide        0    0     0     0    0    0    0       0     0   \n",
       "1          suicide        0    0     0     0    0    0    1       0     0   \n",
       "2          suicide        0    0     0     0    0    0    0       0     1   \n",
       "3          suicide        0    0     0     0    0    0    0       1     1   \n",
       "4          suicide        0    0     0     0    0    0    1       0     1   \n",
       "...            ...      ...  ...   ...   ...  ...  ...  ...     ...   ...   \n",
       "19995  non-suicide        0    0     0     0    1    0    0       0     0   \n",
       "19996  non-suicide        0    0     0     0    0    0    0       0     0   \n",
       "19997  non-suicide        0    0     0     0    0    0    0       0     0   \n",
       "19998  non-suicide        0    0     0     0    0    0    1       0     0   \n",
       "19999  non-suicide        0    0     0     0    1    0    0       0     0   \n",
       "\n",
       "       ...  take  talk  tell  think  time  try  want  well  work  year  \n",
       "0      ...     0     0     0      0     0    0     0     0     0     0  \n",
       "1      ...     0     0     0      0     0    0     2     0     0     1  \n",
       "2      ...     0     0     1      0     0    0     1     0     0     0  \n",
       "3      ...     0     0     0      5     2    0     0     0     0     1  \n",
       "4      ...     0     0     0      0     1    0     0     0     0     1  \n",
       "...    ...   ...   ...   ...    ...   ...  ...   ...   ...   ...   ...  \n",
       "19995  ...     0     0     0      0     1    0     0     0     0     0  \n",
       "19996  ...     0     0     0      0     0    0     0     0     0     0  \n",
       "19997  ...     0     0     0      0     0    0     0     0     0     0  \n",
       "19998  ...     0     0     0      1     1    0     0     0     0     0  \n",
       "19999  ...     1     0     0      0     0    0     0     0     0     0  \n",
       "\n",
       "[20000 rows x 51 columns]"
      ]
     },
     "execution_count": 25,
     "metadata": {},
     "output_type": "execute_result"
    }
   ],
   "source": [
    "Final_DF_Labeled"
   ]
  },
  {
   "cell_type": "markdown",
   "metadata": {},
   "source": [
    "# Explore the data"
   ]
  },
  {
   "cell_type": "code",
   "execution_count": 26,
   "metadata": {},
   "outputs": [],
   "source": [
    "suicide = df_preprocessed.loc[df_preprocessed['class'] == 'suicide']\n",
    "non_suicide = df_preprocessed.loc[df_preprocessed['class'] == 'non-suicide']"
   ]
  },
  {
   "cell_type": "code",
   "execution_count": 27,
   "metadata": {},
   "outputs": [],
   "source": [
    "# Isolate the tweets in a corpus list\n",
    "corpus_su = suicide['text']\n",
    "corpus_un = non_suicide['text']"
   ]
  },
  {
   "cell_type": "code",
   "execution_count": 28,
   "metadata": {},
   "outputs": [
    {
     "data": {
      "image/png": "[encoded data removed]",
      "text/plain": [
       "<Figure size 432x288 with 1 Axes>"
      ]
     },
     "metadata": {
      "needs_background": "light"
     },
     "output_type": "display_data"
    }
   ],
   "source": [
    "sns.countplot(df_preprocessed['class'])\n",
    "plt.show()"
   ]
  },
  {
   "cell_type": "code",
   "execution_count": 29,
   "metadata": {},
   "outputs": [
    {
     "data": {
      "image/png": "[encoded data removed]",
      "text/plain": [
       "<Figure size 1440x432 with 1 Axes>"
      ]
     },
     "metadata": {
      "needs_background": "light"
     },
     "output_type": "display_data"
    }
   ],
   "source": [
    "# Word clouds for suicide text\n",
    "text = \" \".join(text for text in suicide.text)\n",
    "wordcloud = WordCloud(max_font_size=50, max_words=100, background_color=\"white\",\n",
    "                     stopwords = stopwords_set).generate(text)\n",
    "fig = plt.figure(figsize = (20, 6)) \n",
    "plt.imshow(wordcloud, interpolation=\"bilinear\")\n",
    "plt.axis(\"off\")\n",
    "plt.show()"
   ]
  },
  {
   "cell_type": "code",
   "execution_count": 30,
   "metadata": {},
   "outputs": [
    {
     "data": {
      "image/png": "[encoded data removed]",
      "text/plain": [
       "<Figure size 1440x432 with 1 Axes>"
      ]
     },
     "metadata": {
      "needs_background": "light"
     },
     "output_type": "display_data"
    }
   ],
   "source": [
    "# Word clouds for non-suicide text\n",
    "text = \" \".join(text for text in non_suicide.text)\n",
    "wordcloud = WordCloud(max_font_size=50, max_words=100, background_color=\"white\",\n",
    "                     stopwords = stopwords_set).generate(text)\n",
    "fig = plt.figure(figsize = (20, 6)) \n",
    "plt.imshow(wordcloud, interpolation=\"bilinear\")\n",
    "plt.axis(\"off\")\n",
    "plt.show()"
   ]
  },
  {
   "cell_type": "code",
   "execution_count": 31,
   "metadata": {},
   "outputs": [
    {
     "name": "stdout",
     "output_type": "stream",
     "text": [
      "Count Vectorizer words in dictionary: 28497\n"
     ]
    }
   ],
   "source": [
    "## Apply unigram count vectorizer to suicide text\n",
    "corpus_su_cv = unigram_count_vectorizer.fit_transform(corpus_su)\n",
    "# Print length of the dictionaries to serve as a baseline. \n",
    "print(\"Count Vectorizer words in dictionary: %s\" % len(unigram_count_vectorizer.get_feature_names()))"
   ]
  },
  {
   "cell_type": "code",
   "execution_count": 32,
   "metadata": {},
   "outputs": [
    {
     "name": "stdout",
     "output_type": "stream",
     "text": [
      "['abilityexpertise', 'abiogenesis', 'abit', 'abiut', 'abject', 'ablation', 'able', 'ableism', 'ablitie', 'ablw']\n"
     ]
    }
   ],
   "source": [
    "## Get the column names\n",
    "cols=unigram_count_vectorizer.get_feature_names()\n",
    "print(cols[40:50])"
   ]
  },
  {
   "cell_type": "code",
   "execution_count": 33,
   "metadata": {},
   "outputs": [
    {
     "data": {
      "text/plain": [
       "[('want', 13768),\n",
       " ('feel', 13260),\n",
       " ('like', 11868),\n",
       " ('know', 10791),\n",
       " ('life', 9988),\n",
       " ('think', 7804),\n",
       " ('time', 7366),\n",
       " ('people', 6533),\n",
       " ('year', 6424),\n",
       " ('friend', 6123),\n",
       " ('try', 5866),\n",
       " ('day', 5115),\n",
       " ('get', 5063),\n",
       " ('tell', 4907),\n",
       " ('live', 4744),\n",
       " ('help', 4690),\n",
       " ('kill', 4307),\n",
       " ('good', 4306),\n",
       " ('end', 4130),\n",
       " ('bad', 4038)]"
      ]
     },
     "execution_count": 33,
     "metadata": {},
     "output_type": "execute_result"
    }
   ],
   "source": [
    "## Convert it to an array\n",
    "cvdf = pd.DataFrame(corpus_su_cv.toarray(), columns=cols)\n",
    "# let's see top 20 frequency words after CountVectorizer\n",
    "def get_top_n_words(corpus_su, n=None):\n",
    "    vec = CountVectorizer(token_pattern=r'\\b[^\\d\\W]+\\b', stop_words=stopwords_set).fit(corpus_su)\n",
    "    bag_of_words = vec.transform(corpus_su)\n",
    "    sum_words = bag_of_words.sum(axis=0) \n",
    "    words_freq = [(word, sum_words[0, idx]) for word, idx in     vec.vocabulary_.items()]\n",
    "    words_freq =sorted(words_freq, key = lambda x: x[1], reverse=True)\n",
    "    return words_freq[:n]\n",
    "# Apply the function\n",
    "get_top_n_words(corpus_su, n=20)"
   ]
  },
  {
   "cell_type": "code",
   "execution_count": 34,
   "metadata": {},
   "outputs": [
    {
     "name": "stdout",
     "output_type": "stream",
     "text": [
      "Count Vectorizer words in dictionary: 19806\n"
     ]
    }
   ],
   "source": [
    "## Apply unigram count vectorizer to un-suicide text\n",
    "corpus_un_cv = unigram_count_vectorizer.fit_transform(corpus_un)\n",
    "# Print length of the dictionaries to serve as a baseline. \n",
    "print(\"Count Vectorizer words in dictionary: %s\" % len(unigram_count_vectorizer.get_feature_names()))"
   ]
  },
  {
   "cell_type": "code",
   "execution_count": 35,
   "metadata": {},
   "outputs": [
    {
     "name": "stdout",
     "output_type": "stream",
     "text": [
      "['abandon', 'abandonment', 'abaut', 'abbreviate', 'abbreviation', 'abc', 'abcdefghijklmnopqrstuvwxyz', 'abd', 'abdicate', 'abduct']\n"
     ]
    }
   ],
   "source": [
    "## Get the column names\n",
    "cols=unigram_count_vectorizer.get_feature_names()\n",
    "print(cols[40:50])"
   ]
  },
  {
   "cell_type": "code",
   "execution_count": 36,
   "metadata": {},
   "outputs": [
    {
     "data": {
      "text/plain": [
       "[('like', 4604),\n",
       " ('know', 2433),\n",
       " ('want', 2313),\n",
       " ('friend', 1924),\n",
       " ('people', 1897),\n",
       " ('think', 1863),\n",
       " ('feel', 1790),\n",
       " ('day', 1779),\n",
       " ('time', 1696),\n",
       " ('get', 1620),\n",
       " ('good', 1586),\n",
       " ('talk', 1357),\n",
       " ('penis', 1288),\n",
       " ('tell', 1269),\n",
       " ('school', 1267),\n",
       " ('year', 1209),\n",
       " ('girl', 1191),\n",
       " ('need', 1172),\n",
       " ('guy', 1147),\n",
       " ('post', 1136)]"
      ]
     },
     "execution_count": 36,
     "metadata": {},
     "output_type": "execute_result"
    }
   ],
   "source": [
    "## Convert it to an array\n",
    "cvdf = pd.DataFrame(corpus_un_cv.toarray(), columns=cols)\n",
    "# let's see top 20 frequency words after CountVectorizer\n",
    "def get_top_n_words(corpus_un, n=None):\n",
    "    vec = CountVectorizer(token_pattern=r'\\b[^\\d\\W]+\\b', stop_words=stopwords_set).fit(corpus_un)\n",
    "    bag_of_words = vec.transform(corpus_un)\n",
    "    sum_words = bag_of_words.sum(axis=0) \n",
    "    words_freq = [(word, sum_words[0, idx]) for word, idx in     vec.vocabulary_.items()]\n",
    "    words_freq =sorted(words_freq, key = lambda x: x[1], reverse=True)\n",
    "    return words_freq[:n]\n",
    "# Apply the function\n",
    "get_top_n_words(corpus_un, n=20)"
   ]
  },
  {
   "cell_type": "markdown",
   "metadata": {},
   "source": [
    "# Modeling"
   ]
  },
  {
   "cell_type": "markdown",
   "metadata": {},
   "source": [
    "## Multinomial Naive Baye's"
   ]
  },
  {
   "cell_type": "code",
   "execution_count": 37,
   "metadata": {},
   "outputs": [],
   "source": [
    "NB = MultinomialNB()\n",
    "\n",
    "# unigram cv set\n",
    "NB.fit(X_uni_cv_train, y_train)\n",
    "#Prediction on unigram cv train and test set\n",
    "nb_uni_pre_train = NB.predict(X_uni_cv_train)\n",
    "nb_uni_cv_train = accuracy_score(y_train,nb_uni_pre_train)\n",
    "nb_uni_pre_test = NB.predict(X_uni_cv_test)\n",
    "nb_uni_cv_test = accuracy_score(y_test,nb_uni_pre_test)\n",
    "\n",
    "# bigram cv set\n",
    "NB.fit(X_bi_cv_train, y_train)\n",
    "#Prediction on unigram cv train and test set\n",
    "nb_bi_pre_train = NB.predict(X_bi_cv_train)\n",
    "nb_bi_cv_train = accuracy_score(y_train,nb_bi_pre_train)\n",
    "nb_bi_pre_test = NB.predict(X_bi_cv_test)\n",
    "nb_bi_cv_test = accuracy_score(y_test,nb_bi_pre_test)\n",
    "\n",
    "# unigram cv (removed stopwords) set\n",
    "NB.fit(X_uni_cv_st_train, y_train)\n",
    "#Prediction on unigram cv train and test set\n",
    "nb_uni_st_pre_train = NB.predict(X_uni_cv_st_train)\n",
    "nb_uni_st_cv_train = accuracy_score(y_train,nb_uni_st_pre_train)\n",
    "nb_uni_st_pre_test = NB.predict(X_uni_cv_st_test)\n",
    "nb_uni_st_cv_test = accuracy_score(y_test,nb_uni_st_pre_test)\n",
    "\n",
    "# bigram cv (removed stopwords) set\n",
    "NB.fit(X_bi_cv_st_train, y_train)\n",
    "#Prediction on unigram cv train and test set\n",
    "nb_bi_st_pre_train = NB.predict(X_bi_cv_st_train)\n",
    "nb_bi_st_cv_train = accuracy_score(y_train,nb_bi_st_pre_train)\n",
    "nb_bi_st_pre_test = NB.predict(X_bi_cv_st_test)\n",
    "nb_bi_st_cv_test = accuracy_score(y_test,nb_bi_st_pre_test)"
   ]
  },
  {
   "cell_type": "code",
   "execution_count": 38,
   "metadata": {},
   "outputs": [],
   "source": [
    "nb_train_accuracy = pd.DataFrame(data=np.column_stack\n",
    "                           ((nb_uni_cv_train, nb_bi_cv_train, nb_uni_st_cv_train, nb_bi_st_cv_train)), \n",
    "                           columns=['nb_uni_cv_train','nb_bi_cv_train','nb_uni_st_cv_train', 'nb_bi_st_cv_train'])"
   ]
  },
  {
   "cell_type": "code",
   "execution_count": 39,
   "metadata": {},
   "outputs": [
    {
     "data": {
      "text/html": [
       "<div>\n",
       "<style scoped>\n",
       "    .dataframe tbody tr th:only-of-type {\n",
       "        vertical-align: middle;\n",
       "    }\n",
       "\n",
       "    .dataframe tbody tr th {\n",
       "        vertical-align: top;\n",
       "    }\n",
       "\n",
       "    .dataframe thead th {\n",
       "        text-align: right;\n",
       "    }\n",
       "</style>\n",
       "<table border=\"1\" class=\"dataframe\">\n",
       "  <thead>\n",
       "    <tr style=\"text-align: right;\">\n",
       "      <th></th>\n",
       "      <th>nb_uni_cv_train</th>\n",
       "      <th>nb_bi_cv_train</th>\n",
       "      <th>nb_uni_st_cv_train</th>\n",
       "      <th>nb_bi_st_cv_train</th>\n",
       "    </tr>\n",
       "  </thead>\n",
       "  <tbody>\n",
       "    <tr>\n",
       "      <th>0</th>\n",
       "      <td>0.907813</td>\n",
       "      <td>0.980313</td>\n",
       "      <td>0.909937</td>\n",
       "      <td>0.983563</td>\n",
       "    </tr>\n",
       "  </tbody>\n",
       "</table>\n",
       "</div>"
      ],
      "text/plain": [
       "   nb_uni_cv_train  nb_bi_cv_train  nb_uni_st_cv_train  nb_bi_st_cv_train\n",
       "0         0.907813        0.980313            0.909937           0.983563"
      ]
     },
     "execution_count": 39,
     "metadata": {},
     "output_type": "execute_result"
    }
   ],
   "source": [
    "nb_train_accuracy"
   ]
  },
  {
   "cell_type": "code",
   "execution_count": 40,
   "metadata": {},
   "outputs": [],
   "source": [
    "nb_test_accuracy = pd.DataFrame(data=np.column_stack\n",
    "                           ((nb_uni_cv_test, nb_bi_cv_test, nb_uni_st_cv_test, nb_bi_st_cv_test)), \n",
    "                           columns=['nb_uni_cv_test','nb_bi_cv_test','nb_uni_st_cv_test', 'nb_bi_st_cv_test'])"
   ]
  },
  {
   "cell_type": "code",
   "execution_count": 41,
   "metadata": {},
   "outputs": [
    {
     "data": {
      "text/html": [
       "<div>\n",
       "<style scoped>\n",
       "    .dataframe tbody tr th:only-of-type {\n",
       "        vertical-align: middle;\n",
       "    }\n",
       "\n",
       "    .dataframe tbody tr th {\n",
       "        vertical-align: top;\n",
       "    }\n",
       "\n",
       "    .dataframe thead th {\n",
       "        text-align: right;\n",
       "    }\n",
       "</style>\n",
       "<table border=\"1\" class=\"dataframe\">\n",
       "  <thead>\n",
       "    <tr style=\"text-align: right;\">\n",
       "      <th></th>\n",
       "      <th>nb_uni_cv_test</th>\n",
       "      <th>nb_bi_cv_test</th>\n",
       "      <th>nb_uni_st_cv_test</th>\n",
       "      <th>nb_bi_st_cv_test</th>\n",
       "    </tr>\n",
       "  </thead>\n",
       "  <tbody>\n",
       "    <tr>\n",
       "      <th>0</th>\n",
       "      <td>0.868</td>\n",
       "      <td>0.73325</td>\n",
       "      <td>0.86775</td>\n",
       "      <td>0.73575</td>\n",
       "    </tr>\n",
       "  </tbody>\n",
       "</table>\n",
       "</div>"
      ],
      "text/plain": [
       "   nb_uni_cv_test  nb_bi_cv_test  nb_uni_st_cv_test  nb_bi_st_cv_test\n",
       "0           0.868        0.73325            0.86775           0.73575"
      ]
     },
     "execution_count": 41,
     "metadata": {},
     "output_type": "execute_result"
    }
   ],
   "source": [
    "nb_test_accuracy"
   ]
  },
  {
   "cell_type": "code",
   "execution_count": 42,
   "metadata": {},
   "outputs": [],
   "source": [
    "# unigram bv set\n",
    "NB.fit(X_uni_bv_train, y_train)\n",
    "#Prediction on unigram bv train and test set\n",
    "nb_uni_pre_train = NB.predict(X_uni_bv_train)\n",
    "nb_uni_bv_train = accuracy_score(y_train,nb_uni_pre_train)\n",
    "nb_uni_pre_test = NB.predict(X_uni_bv_test)\n",
    "nb_uni_bv_test = accuracy_score(y_test,nb_uni_pre_test)\n",
    "\n",
    "# bigram cv set\n",
    "NB.fit(X_bi_bv_train, y_train)\n",
    "#Prediction on unigram cv train and test set\n",
    "nb_bi_pre_train = NB.predict(X_bi_bv_train)\n",
    "nb_bi_bv_train = accuracy_score(y_train,nb_bi_pre_train)\n",
    "nb_bi_pre_test = NB.predict(X_bi_bv_test)\n",
    "nb_bi_bv_test = accuracy_score(y_test,nb_bi_pre_test)\n",
    "\n",
    "# unigram bv (removed stopwords) set\n",
    "NB.fit(X_uni_bv_st_train, y_train)\n",
    "#Prediction on unigram cv train and test set\n",
    "nb_uni_st_pre_train = NB.predict(X_uni_bv_st_train)\n",
    "nb_uni_st_bv_train = accuracy_score(y_train,nb_uni_st_pre_train)\n",
    "nb_uni_st_pre_test = NB.predict(X_uni_bv_st_test)\n",
    "nb_uni_st_bv_test = accuracy_score(y_test,nb_uni_st_pre_test)\n",
    "\n",
    "# bigram bv (removed stopwords) set\n",
    "NB.fit(X_bi_bv_st_train, y_train)\n",
    "#Prediction on unigram cv train and test set\n",
    "nb_bi_st_pre_train = NB.predict(X_bi_bv_st_train)\n",
    "nb_bi_st_bv_train = accuracy_score(y_train,nb_bi_st_pre_train)\n",
    "nb_bi_st_pre_test = NB.predict(X_bi_bv_st_test)\n",
    "nb_bi_st_bv_test = accuracy_score(y_test,nb_bi_st_pre_test)"
   ]
  },
  {
   "cell_type": "code",
   "execution_count": 43,
   "metadata": {},
   "outputs": [],
   "source": [
    "nb_test_accuracy_bool = pd.DataFrame(data=np.column_stack\n",
    "                           ((nb_uni_bv_test, nb_bi_bv_test, nb_uni_st_bv_test, nb_bi_st_bv_test)), \n",
    "                           columns=['nb_uni_bv_test','nb_bi_bv_test','nb_uni_st_bv_test', 'nb_bi_st_bv_test'])"
   ]
  },
  {
   "cell_type": "code",
   "execution_count": 44,
   "metadata": {},
   "outputs": [
    {
     "data": {
      "text/html": [
       "<div>\n",
       "<style scoped>\n",
       "    .dataframe tbody tr th:only-of-type {\n",
       "        vertical-align: middle;\n",
       "    }\n",
       "\n",
       "    .dataframe tbody tr th {\n",
       "        vertical-align: top;\n",
       "    }\n",
       "\n",
       "    .dataframe thead th {\n",
       "        text-align: right;\n",
       "    }\n",
       "</style>\n",
       "<table border=\"1\" class=\"dataframe\">\n",
       "  <thead>\n",
       "    <tr style=\"text-align: right;\">\n",
       "      <th></th>\n",
       "      <th>nb_uni_bv_test</th>\n",
       "      <th>nb_bi_bv_test</th>\n",
       "      <th>nb_uni_st_bv_test</th>\n",
       "      <th>nb_bi_st_bv_test</th>\n",
       "    </tr>\n",
       "  </thead>\n",
       "  <tbody>\n",
       "    <tr>\n",
       "      <th>0</th>\n",
       "      <td>0.87625</td>\n",
       "      <td>0.73775</td>\n",
       "      <td>0.87625</td>\n",
       "      <td>0.73775</td>\n",
       "    </tr>\n",
       "  </tbody>\n",
       "</table>\n",
       "</div>"
      ],
      "text/plain": [
       "   nb_uni_bv_test  nb_bi_bv_test  nb_uni_st_bv_test  nb_bi_st_bv_test\n",
       "0         0.87625        0.73775            0.87625           0.73775"
      ]
     },
     "execution_count": 44,
     "metadata": {},
     "output_type": "execute_result"
    }
   ],
   "source": [
    "nb_test_accuracy_bool"
   ]
  },
  {
   "cell_type": "code",
   "execution_count": 45,
   "metadata": {},
   "outputs": [
    {
     "data": {
      "text/html": [
       "<div>\n",
       "<style scoped>\n",
       "    .dataframe tbody tr th:only-of-type {\n",
       "        vertical-align: middle;\n",
       "    }\n",
       "\n",
       "    .dataframe tbody tr th {\n",
       "        vertical-align: top;\n",
       "    }\n",
       "\n",
       "    .dataframe thead th {\n",
       "        text-align: right;\n",
       "    }\n",
       "</style>\n",
       "<table border=\"1\" class=\"dataframe\">\n",
       "  <thead>\n",
       "    <tr style=\"text-align: right;\">\n",
       "      <th></th>\n",
       "      <th>nb_uni_cv_test</th>\n",
       "      <th>nb_bi_cv_test</th>\n",
       "      <th>nb_uni_st_cv_test</th>\n",
       "      <th>nb_bi_st_cv_test</th>\n",
       "      <th>nb_uni_bv_test</th>\n",
       "      <th>nb_bi_bv_test</th>\n",
       "      <th>nb_uni_st_bv_test</th>\n",
       "      <th>nb_bi_st_bv_test</th>\n",
       "    </tr>\n",
       "  </thead>\n",
       "  <tbody>\n",
       "    <tr>\n",
       "      <th>0</th>\n",
       "      <td>0.868</td>\n",
       "      <td>0.73325</td>\n",
       "      <td>0.86775</td>\n",
       "      <td>0.73575</td>\n",
       "      <td>0.87625</td>\n",
       "      <td>0.73775</td>\n",
       "      <td>0.87625</td>\n",
       "      <td>0.73775</td>\n",
       "    </tr>\n",
       "  </tbody>\n",
       "</table>\n",
       "</div>"
      ],
      "text/plain": [
       "   nb_uni_cv_test  nb_bi_cv_test  nb_uni_st_cv_test  nb_bi_st_cv_test  \\\n",
       "0           0.868        0.73325            0.86775           0.73575   \n",
       "\n",
       "   nb_uni_bv_test  nb_bi_bv_test  nb_uni_st_bv_test  nb_bi_st_bv_test  \n",
       "0         0.87625        0.73775            0.87625           0.73775  "
      ]
     },
     "execution_count": 45,
     "metadata": {},
     "output_type": "execute_result"
    }
   ],
   "source": [
    "pd.concat([nb_test_accuracy, nb_test_accuracy_bool], axis=1)"
   ]
  },
  {
   "cell_type": "code",
   "execution_count": 46,
   "metadata": {},
   "outputs": [],
   "source": [
    "NB.fit(unigram_bool_vectorizer.fit_transform(X_train), y_train)\n",
    "#Prediction on train set\n",
    "prediction = NB.predict(unigram_bool_vectorizer.transform(X_train))"
   ]
  },
  {
   "cell_type": "code",
   "execution_count": 47,
   "metadata": {},
   "outputs": [
    {
     "name": "stdout",
     "output_type": "stream",
     "text": [
      "[[6844 1130]\n",
      " [ 224 7802]]\n"
     ]
    }
   ],
   "source": [
    "#Confusion matrix\n",
    "print(confusion_matrix(y_train, prediction))"
   ]
  },
  {
   "cell_type": "code",
   "execution_count": 48,
   "metadata": {},
   "outputs": [
    {
     "data": {
      "text/html": [
       "<div>\n",
       "<style scoped>\n",
       "    .dataframe tbody tr th:only-of-type {\n",
       "        vertical-align: middle;\n",
       "    }\n",
       "\n",
       "    .dataframe tbody tr th {\n",
       "        vertical-align: top;\n",
       "    }\n",
       "\n",
       "    .dataframe thead th {\n",
       "        text-align: right;\n",
       "    }\n",
       "</style>\n",
       "<table border=\"1\" class=\"dataframe\">\n",
       "  <thead>\n",
       "    <tr style=\"text-align: right;\">\n",
       "      <th></th>\n",
       "      <th>precision</th>\n",
       "      <th>recall</th>\n",
       "      <th>f1-score</th>\n",
       "      <th>support</th>\n",
       "    </tr>\n",
       "  </thead>\n",
       "  <tbody>\n",
       "    <tr>\n",
       "      <th>non-suicide</th>\n",
       "      <td>0.968308</td>\n",
       "      <td>0.858289</td>\n",
       "      <td>0.909985</td>\n",
       "      <td>7974.000000</td>\n",
       "    </tr>\n",
       "    <tr>\n",
       "      <th>suicide</th>\n",
       "      <td>0.873489</td>\n",
       "      <td>0.972091</td>\n",
       "      <td>0.920156</td>\n",
       "      <td>8026.000000</td>\n",
       "    </tr>\n",
       "    <tr>\n",
       "      <th>accuracy</th>\n",
       "      <td>0.915375</td>\n",
       "      <td>0.915375</td>\n",
       "      <td>0.915375</td>\n",
       "      <td>0.915375</td>\n",
       "    </tr>\n",
       "    <tr>\n",
       "      <th>macro avg</th>\n",
       "      <td>0.920898</td>\n",
       "      <td>0.915190</td>\n",
       "      <td>0.915071</td>\n",
       "      <td>16000.000000</td>\n",
       "    </tr>\n",
       "    <tr>\n",
       "      <th>weighted avg</th>\n",
       "      <td>0.920744</td>\n",
       "      <td>0.915375</td>\n",
       "      <td>0.915087</td>\n",
       "      <td>16000.000000</td>\n",
       "    </tr>\n",
       "  </tbody>\n",
       "</table>\n",
       "</div>"
      ],
      "text/plain": [
       "              precision    recall  f1-score       support\n",
       "non-suicide    0.968308  0.858289  0.909985   7974.000000\n",
       "suicide        0.873489  0.972091  0.920156   8026.000000\n",
       "accuracy       0.915375  0.915375  0.915375      0.915375\n",
       "macro avg      0.920898  0.915190  0.915071  16000.000000\n",
       "weighted avg   0.920744  0.915375  0.915087  16000.000000"
      ]
     },
     "execution_count": 48,
     "metadata": {},
     "output_type": "execute_result"
    }
   ],
   "source": [
    "#Classification Report\n",
    "reportnb_cla = classification_report(y_train, prediction, output_dict=True)\n",
    "dfnb_cla = pd.DataFrame(reportnb_cla).transpose()\n",
    "dfnb_cla"
   ]
  },
  {
   "cell_type": "code",
   "execution_count": 49,
   "metadata": {},
   "outputs": [
    {
     "name": "stdout",
     "output_type": "stream",
     "text": [
      "[[1580  446]\n",
      " [  49 1925]]\n"
     ]
    }
   ],
   "source": [
    "#Prediction on test set\n",
    "prediction_test = NB.predict(unigram_bool_vectorizer.transform(X_test))\n",
    "#Confusion matrix\n",
    "print(confusion_matrix(y_test, prediction_test))"
   ]
  },
  {
   "cell_type": "code",
   "execution_count": 50,
   "metadata": {},
   "outputs": [
    {
     "data": {
      "text/html": [
       "<div>\n",
       "<style scoped>\n",
       "    .dataframe tbody tr th:only-of-type {\n",
       "        vertical-align: middle;\n",
       "    }\n",
       "\n",
       "    .dataframe tbody tr th {\n",
       "        vertical-align: top;\n",
       "    }\n",
       "\n",
       "    .dataframe thead th {\n",
       "        text-align: right;\n",
       "    }\n",
       "</style>\n",
       "<table border=\"1\" class=\"dataframe\">\n",
       "  <thead>\n",
       "    <tr style=\"text-align: right;\">\n",
       "      <th></th>\n",
       "      <th>precision</th>\n",
       "      <th>recall</th>\n",
       "      <th>f1-score</th>\n",
       "      <th>support</th>\n",
       "    </tr>\n",
       "  </thead>\n",
       "  <tbody>\n",
       "    <tr>\n",
       "      <th>non-suicide</th>\n",
       "      <td>0.969920</td>\n",
       "      <td>0.779862</td>\n",
       "      <td>0.864569</td>\n",
       "      <td>2026.00000</td>\n",
       "    </tr>\n",
       "    <tr>\n",
       "      <th>suicide</th>\n",
       "      <td>0.811894</td>\n",
       "      <td>0.975177</td>\n",
       "      <td>0.886076</td>\n",
       "      <td>1974.00000</td>\n",
       "    </tr>\n",
       "    <tr>\n",
       "      <th>accuracy</th>\n",
       "      <td>0.876250</td>\n",
       "      <td>0.876250</td>\n",
       "      <td>0.876250</td>\n",
       "      <td>0.87625</td>\n",
       "    </tr>\n",
       "    <tr>\n",
       "      <th>macro avg</th>\n",
       "      <td>0.890907</td>\n",
       "      <td>0.877520</td>\n",
       "      <td>0.875323</td>\n",
       "      <td>4000.00000</td>\n",
       "    </tr>\n",
       "    <tr>\n",
       "      <th>weighted avg</th>\n",
       "      <td>0.891934</td>\n",
       "      <td>0.876250</td>\n",
       "      <td>0.875183</td>\n",
       "      <td>4000.00000</td>\n",
       "    </tr>\n",
       "  </tbody>\n",
       "</table>\n",
       "</div>"
      ],
      "text/plain": [
       "              precision    recall  f1-score     support\n",
       "non-suicide    0.969920  0.779862  0.864569  2026.00000\n",
       "suicide        0.811894  0.975177  0.886076  1974.00000\n",
       "accuracy       0.876250  0.876250  0.876250     0.87625\n",
       "macro avg      0.890907  0.877520  0.875323  4000.00000\n",
       "weighted avg   0.891934  0.876250  0.875183  4000.00000"
      ]
     },
     "execution_count": 50,
     "metadata": {},
     "output_type": "execute_result"
    }
   ],
   "source": [
    "#Evaluating on test data\n",
    "reportnb = classification_report(y_test, prediction_test, output_dict=True)\n",
    "dfnb = pd.DataFrame(reportnb).transpose()\n",
    "dfnb"
   ]
  },
  {
   "cell_type": "markdown",
   "metadata": {},
   "source": [
    "## SVMs"
   ]
  },
  {
   "cell_type": "markdown",
   "metadata": {},
   "source": [
    "#### SVC with linear kernel"
   ]
  },
  {
   "cell_type": "code",
   "execution_count": 51,
   "metadata": {},
   "outputs": [
    {
     "data": {
      "text/plain": [
       "SVC(kernel='linear')"
      ]
     },
     "execution_count": 51,
     "metadata": {},
     "output_type": "execute_result"
    }
   ],
   "source": [
    "svclassifier = SVC(kernel='linear')\n",
    "svclassifier.fit(unigram_count_vectorizer.fit_transform(X_train), y_train)"
   ]
  },
  {
   "cell_type": "code",
   "execution_count": 52,
   "metadata": {},
   "outputs": [],
   "source": [
    "pred_svm_test = svclassifier.predict(unigram_count_vectorizer.transform(X_test))"
   ]
  },
  {
   "cell_type": "code",
   "execution_count": 53,
   "metadata": {},
   "outputs": [
    {
     "name": "stdout",
     "output_type": "stream",
     "text": [
      "[[1849  177]\n",
      " [ 252 1722]]\n"
     ]
    }
   ],
   "source": [
    "print(confusion_matrix(y_test, pred_svm_test))\n",
    "report = classification_report(y_test, pred_svm_test, output_dict=True)\n",
    "dfsvmlinear = pd.DataFrame(report).transpose()"
   ]
  },
  {
   "cell_type": "code",
   "execution_count": 54,
   "metadata": {},
   "outputs": [
    {
     "data": {
      "text/html": [
       "<div>\n",
       "<style scoped>\n",
       "    .dataframe tbody tr th:only-of-type {\n",
       "        vertical-align: middle;\n",
       "    }\n",
       "\n",
       "    .dataframe tbody tr th {\n",
       "        vertical-align: top;\n",
       "    }\n",
       "\n",
       "    .dataframe thead th {\n",
       "        text-align: right;\n",
       "    }\n",
       "</style>\n",
       "<table border=\"1\" class=\"dataframe\">\n",
       "  <thead>\n",
       "    <tr style=\"text-align: right;\">\n",
       "      <th></th>\n",
       "      <th>precision</th>\n",
       "      <th>recall</th>\n",
       "      <th>f1-score</th>\n",
       "      <th>support</th>\n",
       "    </tr>\n",
       "  </thead>\n",
       "  <tbody>\n",
       "    <tr>\n",
       "      <th>non-suicide</th>\n",
       "      <td>0.880057</td>\n",
       "      <td>0.912636</td>\n",
       "      <td>0.896050</td>\n",
       "      <td>2026.00000</td>\n",
       "    </tr>\n",
       "    <tr>\n",
       "      <th>suicide</th>\n",
       "      <td>0.906793</td>\n",
       "      <td>0.872340</td>\n",
       "      <td>0.889233</td>\n",
       "      <td>1974.00000</td>\n",
       "    </tr>\n",
       "    <tr>\n",
       "      <th>accuracy</th>\n",
       "      <td>0.892750</td>\n",
       "      <td>0.892750</td>\n",
       "      <td>0.892750</td>\n",
       "      <td>0.89275</td>\n",
       "    </tr>\n",
       "    <tr>\n",
       "      <th>macro avg</th>\n",
       "      <td>0.893425</td>\n",
       "      <td>0.892488</td>\n",
       "      <td>0.892642</td>\n",
       "      <td>4000.00000</td>\n",
       "    </tr>\n",
       "    <tr>\n",
       "      <th>weighted avg</th>\n",
       "      <td>0.893251</td>\n",
       "      <td>0.892750</td>\n",
       "      <td>0.892686</td>\n",
       "      <td>4000.00000</td>\n",
       "    </tr>\n",
       "  </tbody>\n",
       "</table>\n",
       "</div>"
      ],
      "text/plain": [
       "              precision    recall  f1-score     support\n",
       "non-suicide    0.880057  0.912636  0.896050  2026.00000\n",
       "suicide        0.906793  0.872340  0.889233  1974.00000\n",
       "accuracy       0.892750  0.892750  0.892750     0.89275\n",
       "macro avg      0.893425  0.892488  0.892642  4000.00000\n",
       "weighted avg   0.893251  0.892750  0.892686  4000.00000"
      ]
     },
     "execution_count": 54,
     "metadata": {},
     "output_type": "execute_result"
    }
   ],
   "source": [
    "dfsvmlinear"
   ]
  },
  {
   "cell_type": "markdown",
   "metadata": {},
   "source": [
    "#### SVC with polynomial (degree 1) kernel"
   ]
  },
  {
   "cell_type": "code",
   "execution_count": 55,
   "metadata": {},
   "outputs": [
    {
     "data": {
      "text/plain": [
       "SVC(degree=1, kernel='poly')"
      ]
     },
     "execution_count": 55,
     "metadata": {},
     "output_type": "execute_result"
    }
   ],
   "source": [
    "poly_svc = SVC(kernel='poly', degree=1)\n",
    "poly_svc.fit(unigram_count_vectorizer.fit_transform(X_train), y_train)"
   ]
  },
  {
   "cell_type": "code",
   "execution_count": 56,
   "metadata": {},
   "outputs": [],
   "source": [
    "pred_svm_test = poly_svc.predict(unigram_count_vectorizer.transform(X_test))"
   ]
  },
  {
   "cell_type": "code",
   "execution_count": 57,
   "metadata": {},
   "outputs": [
    {
     "name": "stdout",
     "output_type": "stream",
     "text": [
      "[[1920  106]\n",
      " [ 327 1647]]\n"
     ]
    }
   ],
   "source": [
    "print(confusion_matrix(y_test, pred_svm_test))\n",
    "report = classification_report(y_test, pred_svm_test, output_dict=True)\n",
    "dfsvmpoly = pd.DataFrame(report).transpose()"
   ]
  },
  {
   "cell_type": "code",
   "execution_count": 58,
   "metadata": {},
   "outputs": [
    {
     "data": {
      "text/html": [
       "<div>\n",
       "<style scoped>\n",
       "    .dataframe tbody tr th:only-of-type {\n",
       "        vertical-align: middle;\n",
       "    }\n",
       "\n",
       "    .dataframe tbody tr th {\n",
       "        vertical-align: top;\n",
       "    }\n",
       "\n",
       "    .dataframe thead th {\n",
       "        text-align: right;\n",
       "    }\n",
       "</style>\n",
       "<table border=\"1\" class=\"dataframe\">\n",
       "  <thead>\n",
       "    <tr style=\"text-align: right;\">\n",
       "      <th></th>\n",
       "      <th>precision</th>\n",
       "      <th>recall</th>\n",
       "      <th>f1-score</th>\n",
       "      <th>support</th>\n",
       "    </tr>\n",
       "  </thead>\n",
       "  <tbody>\n",
       "    <tr>\n",
       "      <th>non-suicide</th>\n",
       "      <td>0.854473</td>\n",
       "      <td>0.947680</td>\n",
       "      <td>0.898666</td>\n",
       "      <td>2026.00000</td>\n",
       "    </tr>\n",
       "    <tr>\n",
       "      <th>suicide</th>\n",
       "      <td>0.939532</td>\n",
       "      <td>0.834347</td>\n",
       "      <td>0.883821</td>\n",
       "      <td>1974.00000</td>\n",
       "    </tr>\n",
       "    <tr>\n",
       "      <th>accuracy</th>\n",
       "      <td>0.891750</td>\n",
       "      <td>0.891750</td>\n",
       "      <td>0.891750</td>\n",
       "      <td>0.89175</td>\n",
       "    </tr>\n",
       "    <tr>\n",
       "      <th>macro avg</th>\n",
       "      <td>0.897002</td>\n",
       "      <td>0.891013</td>\n",
       "      <td>0.891243</td>\n",
       "      <td>4000.00000</td>\n",
       "    </tr>\n",
       "    <tr>\n",
       "      <th>weighted avg</th>\n",
       "      <td>0.896450</td>\n",
       "      <td>0.891750</td>\n",
       "      <td>0.891340</td>\n",
       "      <td>4000.00000</td>\n",
       "    </tr>\n",
       "  </tbody>\n",
       "</table>\n",
       "</div>"
      ],
      "text/plain": [
       "              precision    recall  f1-score     support\n",
       "non-suicide    0.854473  0.947680  0.898666  2026.00000\n",
       "suicide        0.939532  0.834347  0.883821  1974.00000\n",
       "accuracy       0.891750  0.891750  0.891750     0.89175\n",
       "macro avg      0.897002  0.891013  0.891243  4000.00000\n",
       "weighted avg   0.896450  0.891750  0.891340  4000.00000"
      ]
     },
     "execution_count": 58,
     "metadata": {},
     "output_type": "execute_result"
    }
   ],
   "source": [
    "dfsvmpoly"
   ]
  },
  {
   "cell_type": "markdown",
   "metadata": {},
   "source": [
    "#### SVC with RBF kernel"
   ]
  },
  {
   "cell_type": "code",
   "execution_count": 59,
   "metadata": {},
   "outputs": [
    {
     "data": {
      "text/plain": [
       "SVC()"
      ]
     },
     "execution_count": 59,
     "metadata": {},
     "output_type": "execute_result"
    }
   ],
   "source": [
    "rbf_svc = SVC(kernel='rbf')\n",
    "rbf_svc.fit(unigram_count_vectorizer.fit_transform(X_train), y_train)"
   ]
  },
  {
   "cell_type": "code",
   "execution_count": 60,
   "metadata": {},
   "outputs": [],
   "source": [
    "pred_svm_test = rbf_svc.predict(unigram_count_vectorizer.transform(X_test))"
   ]
  },
  {
   "cell_type": "code",
   "execution_count": 61,
   "metadata": {},
   "outputs": [
    {
     "name": "stdout",
     "output_type": "stream",
     "text": [
      "[[1894  132]\n",
      " [ 246 1728]]\n"
     ]
    }
   ],
   "source": [
    "print(confusion_matrix(y_test, pred_svm_test))\n",
    "report = classification_report(y_test, pred_svm_test, output_dict=True)\n",
    "dfsvmrbf = pd.DataFrame(report).transpose()"
   ]
  },
  {
   "cell_type": "code",
   "execution_count": 62,
   "metadata": {},
   "outputs": [
    {
     "data": {
      "text/html": [
       "<div>\n",
       "<style scoped>\n",
       "    .dataframe tbody tr th:only-of-type {\n",
       "        vertical-align: middle;\n",
       "    }\n",
       "\n",
       "    .dataframe tbody tr th {\n",
       "        vertical-align: top;\n",
       "    }\n",
       "\n",
       "    .dataframe thead th {\n",
       "        text-align: right;\n",
       "    }\n",
       "</style>\n",
       "<table border=\"1\" class=\"dataframe\">\n",
       "  <thead>\n",
       "    <tr style=\"text-align: right;\">\n",
       "      <th></th>\n",
       "      <th>precision</th>\n",
       "      <th>recall</th>\n",
       "      <th>f1-score</th>\n",
       "      <th>support</th>\n",
       "    </tr>\n",
       "  </thead>\n",
       "  <tbody>\n",
       "    <tr>\n",
       "      <th>non-suicide</th>\n",
       "      <td>0.885047</td>\n",
       "      <td>0.934847</td>\n",
       "      <td>0.909265</td>\n",
       "      <td>2026.0000</td>\n",
       "    </tr>\n",
       "    <tr>\n",
       "      <th>suicide</th>\n",
       "      <td>0.929032</td>\n",
       "      <td>0.875380</td>\n",
       "      <td>0.901408</td>\n",
       "      <td>1974.0000</td>\n",
       "    </tr>\n",
       "    <tr>\n",
       "      <th>accuracy</th>\n",
       "      <td>0.905500</td>\n",
       "      <td>0.905500</td>\n",
       "      <td>0.905500</td>\n",
       "      <td>0.9055</td>\n",
       "    </tr>\n",
       "    <tr>\n",
       "      <th>macro avg</th>\n",
       "      <td>0.907039</td>\n",
       "      <td>0.905113</td>\n",
       "      <td>0.905337</td>\n",
       "      <td>4000.0000</td>\n",
       "    </tr>\n",
       "    <tr>\n",
       "      <th>weighted avg</th>\n",
       "      <td>0.906754</td>\n",
       "      <td>0.905500</td>\n",
       "      <td>0.905388</td>\n",
       "      <td>4000.0000</td>\n",
       "    </tr>\n",
       "  </tbody>\n",
       "</table>\n",
       "</div>"
      ],
      "text/plain": [
       "              precision    recall  f1-score    support\n",
       "non-suicide    0.885047  0.934847  0.909265  2026.0000\n",
       "suicide        0.929032  0.875380  0.901408  1974.0000\n",
       "accuracy       0.905500  0.905500  0.905500     0.9055\n",
       "macro avg      0.907039  0.905113  0.905337  4000.0000\n",
       "weighted avg   0.906754  0.905500  0.905388  4000.0000"
      ]
     },
     "execution_count": 62,
     "metadata": {},
     "output_type": "execute_result"
    }
   ],
   "source": [
    "dfsvmrbf"
   ]
  },
  {
   "cell_type": "markdown",
   "metadata": {},
   "source": [
    "# Logistic Regression"
   ]
  },
  {
   "cell_type": "code",
   "execution_count": 63,
   "metadata": {},
   "outputs": [],
   "source": [
    "logreg = LogisticRegression(solver='liblinear')"
   ]
  },
  {
   "cell_type": "code",
   "execution_count": 64,
   "metadata": {},
   "outputs": [
    {
     "data": {
      "text/plain": [
       "LogisticRegression(solver='liblinear')"
      ]
     },
     "execution_count": 64,
     "metadata": {},
     "output_type": "execute_result"
    }
   ],
   "source": [
    "#Building Logistic Regression  Model\n",
    "logreg.fit(unigram_count_vectorizer.fit_transform(X_train), y_train)"
   ]
  },
  {
   "cell_type": "code",
   "execution_count": 65,
   "metadata": {},
   "outputs": [
    {
     "name": "stdout",
     "output_type": "stream",
     "text": [
      "[[7876   98]\n",
      " [ 271 7755]]\n"
     ]
    }
   ],
   "source": [
    "#Prediction on train set\n",
    "prediction_logistic = logreg.predict(unigram_count_vectorizer.transform(X_train))\n",
    "#Confusion matrix\n",
    "print(confusion_matrix(y_train, prediction_logistic))"
   ]
  },
  {
   "cell_type": "code",
   "execution_count": 66,
   "metadata": {},
   "outputs": [
    {
     "data": {
      "text/html": [
       "<div>\n",
       "<style scoped>\n",
       "    .dataframe tbody tr th:only-of-type {\n",
       "        vertical-align: middle;\n",
       "    }\n",
       "\n",
       "    .dataframe tbody tr th {\n",
       "        vertical-align: top;\n",
       "    }\n",
       "\n",
       "    .dataframe thead th {\n",
       "        text-align: right;\n",
       "    }\n",
       "</style>\n",
       "<table border=\"1\" class=\"dataframe\">\n",
       "  <thead>\n",
       "    <tr style=\"text-align: right;\">\n",
       "      <th></th>\n",
       "      <th>precision</th>\n",
       "      <th>recall</th>\n",
       "      <th>f1-score</th>\n",
       "      <th>support</th>\n",
       "    </tr>\n",
       "  </thead>\n",
       "  <tbody>\n",
       "    <tr>\n",
       "      <th>non-suicide</th>\n",
       "      <td>0.966736</td>\n",
       "      <td>0.987710</td>\n",
       "      <td>0.977111</td>\n",
       "      <td>7974.000000</td>\n",
       "    </tr>\n",
       "    <tr>\n",
       "      <th>suicide</th>\n",
       "      <td>0.987521</td>\n",
       "      <td>0.966235</td>\n",
       "      <td>0.976762</td>\n",
       "      <td>8026.000000</td>\n",
       "    </tr>\n",
       "    <tr>\n",
       "      <th>accuracy</th>\n",
       "      <td>0.976938</td>\n",
       "      <td>0.976938</td>\n",
       "      <td>0.976938</td>\n",
       "      <td>0.976938</td>\n",
       "    </tr>\n",
       "    <tr>\n",
       "      <th>macro avg</th>\n",
       "      <td>0.977128</td>\n",
       "      <td>0.976972</td>\n",
       "      <td>0.976936</td>\n",
       "      <td>16000.000000</td>\n",
       "    </tr>\n",
       "    <tr>\n",
       "      <th>weighted avg</th>\n",
       "      <td>0.977162</td>\n",
       "      <td>0.976938</td>\n",
       "      <td>0.976936</td>\n",
       "      <td>16000.000000</td>\n",
       "    </tr>\n",
       "  </tbody>\n",
       "</table>\n",
       "</div>"
      ],
      "text/plain": [
       "              precision    recall  f1-score       support\n",
       "non-suicide    0.966736  0.987710  0.977111   7974.000000\n",
       "suicide        0.987521  0.966235  0.976762   8026.000000\n",
       "accuracy       0.976938  0.976938  0.976938      0.976938\n",
       "macro avg      0.977128  0.976972  0.976936  16000.000000\n",
       "weighted avg   0.977162  0.976938  0.976936  16000.000000"
      ]
     },
     "execution_count": 66,
     "metadata": {},
     "output_type": "execute_result"
    }
   ],
   "source": [
    "#classification_report\n",
    "reportlog_cla = classification_report(y_train, prediction_logistic, output_dict=True)\n",
    "dflog_cla = pd.DataFrame(reportlog_cla).transpose()\n",
    "dflog_cla"
   ]
  },
  {
   "cell_type": "code",
   "execution_count": 67,
   "metadata": {},
   "outputs": [
    {
     "name": "stdout",
     "output_type": "stream",
     "text": [
      "[[1887  139]\n",
      " [ 211 1763]]\n"
     ]
    }
   ],
   "source": [
    "#Evaluating on test data\n",
    "\n",
    "prediction_logistic_test = logreg.predict(unigram_count_vectorizer.transform(X_test))\n",
    "#Confusion matrix\n",
    "print(confusion_matrix(y_test, prediction_logistic_test))\n",
    "reportlog = classification_report(y_test, prediction_logistic_test, output_dict=True)\n",
    "dflog = pd.DataFrame(reportlog).transpose()"
   ]
  },
  {
   "cell_type": "code",
   "execution_count": 68,
   "metadata": {},
   "outputs": [
    {
     "data": {
      "text/html": [
       "<div>\n",
       "<style scoped>\n",
       "    .dataframe tbody tr th:only-of-type {\n",
       "        vertical-align: middle;\n",
       "    }\n",
       "\n",
       "    .dataframe tbody tr th {\n",
       "        vertical-align: top;\n",
       "    }\n",
       "\n",
       "    .dataframe thead th {\n",
       "        text-align: right;\n",
       "    }\n",
       "</style>\n",
       "<table border=\"1\" class=\"dataframe\">\n",
       "  <thead>\n",
       "    <tr style=\"text-align: right;\">\n",
       "      <th></th>\n",
       "      <th>precision</th>\n",
       "      <th>recall</th>\n",
       "      <th>f1-score</th>\n",
       "      <th>support</th>\n",
       "    </tr>\n",
       "  </thead>\n",
       "  <tbody>\n",
       "    <tr>\n",
       "      <th>non-suicide</th>\n",
       "      <td>0.899428</td>\n",
       "      <td>0.931392</td>\n",
       "      <td>0.915131</td>\n",
       "      <td>2026.0000</td>\n",
       "    </tr>\n",
       "    <tr>\n",
       "      <th>suicide</th>\n",
       "      <td>0.926919</td>\n",
       "      <td>0.893110</td>\n",
       "      <td>0.909701</td>\n",
       "      <td>1974.0000</td>\n",
       "    </tr>\n",
       "    <tr>\n",
       "      <th>accuracy</th>\n",
       "      <td>0.912500</td>\n",
       "      <td>0.912500</td>\n",
       "      <td>0.912500</td>\n",
       "      <td>0.9125</td>\n",
       "    </tr>\n",
       "    <tr>\n",
       "      <th>macro avg</th>\n",
       "      <td>0.913174</td>\n",
       "      <td>0.912251</td>\n",
       "      <td>0.912416</td>\n",
       "      <td>4000.0000</td>\n",
       "    </tr>\n",
       "    <tr>\n",
       "      <th>weighted avg</th>\n",
       "      <td>0.912995</td>\n",
       "      <td>0.912500</td>\n",
       "      <td>0.912451</td>\n",
       "      <td>4000.0000</td>\n",
       "    </tr>\n",
       "  </tbody>\n",
       "</table>\n",
       "</div>"
      ],
      "text/plain": [
       "              precision    recall  f1-score    support\n",
       "non-suicide    0.899428  0.931392  0.915131  2026.0000\n",
       "suicide        0.926919  0.893110  0.909701  1974.0000\n",
       "accuracy       0.912500  0.912500  0.912500     0.9125\n",
       "macro avg      0.913174  0.912251  0.912416  4000.0000\n",
       "weighted avg   0.912995  0.912500  0.912451  4000.0000"
      ]
     },
     "execution_count": 68,
     "metadata": {},
     "output_type": "execute_result"
    }
   ],
   "source": [
    "dflog"
   ]
  },
  {
   "cell_type": "markdown",
   "metadata": {},
   "source": [
    "# Decision Tree classifier"
   ]
  },
  {
   "cell_type": "code",
   "execution_count": 69,
   "metadata": {},
   "outputs": [],
   "source": [
    "## STEP 1   Create Training and Testing Data\\\n",
    "TrainDF, TestDF = train_test_split(Final_DF_Labeled, test_size=0.3)\n",
    "# print(TrainDF)\n",
    "# print(TestDF)"
   ]
  },
  {
   "cell_type": "code",
   "execution_count": 70,
   "metadata": {},
   "outputs": [],
   "source": [
    "## STEP 2: Separate LABELS\n",
    "## IMPORTANT - YOU CANNOT LEAVE LABELS ON\n",
    "## Save labels\n",
    "\n",
    "### TEST ---------------------\n",
    "TestLabels=TestDF[\"LABEL\"]\n",
    "# print(TestLabels)\n",
    "TestDF = TestDF.drop([\"LABEL\"], axis=1)\n",
    "# print(TestDF)\n",
    "### TRAIN----------------------\n",
    "TrainLabels=TrainDF[\"LABEL\"]\n",
    "# print(TrainLabels)\n",
    "## remove labels\n",
    "TrainDF = TrainDF.drop([\"LABEL\"], axis=1)"
   ]
  },
  {
   "cell_type": "code",
   "execution_count": 71,
   "metadata": {},
   "outputs": [],
   "source": [
    "label = ['suicide', 'un_suicide']"
   ]
  },
  {
   "cell_type": "code",
   "execution_count": 72,
   "metadata": {},
   "outputs": [
    {
     "name": "stderr",
     "output_type": "stream",
     "text": [
      "dot: graph is too large for cairo-renderer bitmaps. Scaling by 0.487075 to fit\r\n"
     ]
    },
    {
     "name": "stdout",
     "output_type": "stream",
     "text": [
      "Prediction\n",
      "\n",
      "['non-suicide' 'non-suicide' 'non-suicide' ... 'suicide' 'suicide'\n",
      " 'non-suicide']\n",
      "\n",
      "The confusion matrix is:\n",
      "[[2503  522]\n",
      " [ 687 2288]]\n",
      "1. feature 22 (0.197312)\n",
      "feature name:  life\n",
      "2. feature 19 (0.093434)\n",
      "feature name:  kill\n",
      "3. feature 8 (0.070917)\n",
      "feature name:  feel\n",
      "4. feature 39 (0.051630)\n",
      "feature name:  suicide\n",
      "5. feature 5 (0.032856)\n",
      "feature name:  die\n",
      "6. feature 46 (0.028827)\n",
      "feature name:  want\n",
      "7. feature 6 (0.027509)\n",
      "feature name:  end\n",
      "8. feature 0 (0.025834)\n",
      "feature name:  anymore\n",
      "9. feature 20 (0.021442)\n",
      "feature name:  know\n",
      "10. feature 23 (0.020837)\n",
      "feature name:  like\n",
      "11. feature 10 (0.017432)\n",
      "feature name:  friend\n",
      "12. feature 43 (0.016382)\n",
      "feature name:  think\n",
      "13. feature 42 (0.016112)\n",
      "feature name:  tell\n",
      "14. feature 24 (0.015485)\n",
      "feature name:  live\n",
      "15. feature 44 (0.014964)\n",
      "feature name:  time\n",
      "16. feature 17 (0.014947)\n",
      "feature name:  help\n",
      "17. feature 45 (0.014834)\n",
      "feature name:  try\n",
      "18. feature 14 (0.013839)\n",
      "feature name:  good\n",
      "19. feature 41 (0.013627)\n",
      "feature name:  talk\n",
      "20. feature 13 (0.013583)\n",
      "feature name:  get\n",
      "21. feature 49 (0.013534)\n",
      "feature name:  year\n",
      "22. feature 4 (0.013204)\n",
      "feature name:  day\n",
      "23. feature 33 (0.012819)\n",
      "feature name:  post\n",
      "24. feature 12 (0.012669)\n",
      "feature name:  fucking\n",
      "25. feature 31 (0.012470)\n",
      "feature name:  people\n",
      "26. feature 35 (0.012220)\n",
      "feature name:  school\n",
      "27. feature 29 (0.011838)\n",
      "feature name:  need\n",
      "28. feature 47 (0.011070)\n",
      "feature name:  well\n",
      "29. feature 1 (0.010487)\n",
      "feature name:  bad\n",
      "30. feature 3 (0.009968)\n",
      "feature name:  come\n",
      "31. feature 11 (0.009646)\n",
      "feature name:  fuck\n",
      "32. feature 16 (0.008924)\n",
      "feature name:  hate\n",
      "33. feature 21 (0.008698)\n",
      "feature name:  leave\n",
      "34. feature 48 (0.008649)\n",
      "feature name:  work\n",
      "35. feature 38 (0.008552)\n",
      "feature name:  stop\n",
      "36. feature 36 (0.008363)\n",
      "feature name:  shit\n",
      "37. feature 28 (0.008181)\n",
      "feature name:  month\n",
      "38. feature 2 (0.008107)\n",
      "feature name:  care\n",
      "39. feature 7 (0.008032)\n",
      "feature name:  family\n",
      "40. feature 27 (0.008005)\n",
      "feature name:  love\n",
      "41. feature 15 (0.007985)\n",
      "feature name:  happy\n",
      "42. feature 32 (0.007940)\n",
      "feature name:  person\n",
      "43. feature 26 (0.007761)\n",
      "feature name:  look\n",
      "44. feature 37 (0.007729)\n",
      "feature name:  start\n",
      "45. feature 34 (0.007656)\n",
      "feature name:  right\n",
      "46. feature 40 (0.007608)\n",
      "feature name:  take\n",
      "47. feature 25 (0.007552)\n",
      "feature name:  long\n",
      "48. feature 18 (0.007020)\n",
      "feature name:  job\n",
      "49. feature 9 (0.006545)\n",
      "feature name:  find\n",
      "50. feature 30 (0.004963)\n",
      "feature name:  parent\n"
     ]
    }
   ],
   "source": [
    "## Instantiate\n",
    "MyDT = DecisionTreeClassifier(criterion='entropy', ##\"entropy\" or \"gini\"\n",
    "                              splitter='best',  ## or \"random\" or \"best\"\n",
    "                              max_depth=None,\n",
    "                              min_samples_leaf=1,\n",
    "                              min_weight_fraction_leaf=0.0,\n",
    "                              max_features=None,\n",
    "                              random_state=None,\n",
    "                              max_leaf_nodes=None,\n",
    "                              min_impurity_decrease=0.0,\n",
    "                              class_weight=None)\n",
    "\n",
    "##\n",
    "MyDT.fit(TrainDF, TrainLabels)\n",
    "\n",
    "#tree.plot_tree(MyDT)\n",
    "#plt.savefig(temp1)\n",
    "\n",
    "feature_names = TrainDF.columns\n",
    "Tree_Object = tree.export_graphviz(MyDT, out_file=None,\n",
    "                      ## The following creates TrainDF.columns for each\n",
    "                      ## which are the feature names.\n",
    "                      feature_names=feature_names,  \n",
    "                      class_names=['class0', 'class1'],  # Define label names for classes\n",
    "                      filled=True, rounded=True,  \n",
    "                      special_characters=True)  \n",
    "\n",
    "graph = graphviz.Source(Tree_Object, format='png', engine='dot')\n",
    "   \n",
    "graph.render(\"MyTree\")\n",
    "\n",
    "\n",
    "## Confusion Matrix\n",
    "print(\"Prediction\\n\")\n",
    "DT_pred = MyDT.predict(TestDF)\n",
    "print(DT_pred)\n",
    "   \n",
    "bn_matrix = confusion_matrix(TestLabels, DT_pred)\n",
    "print(\"\\nThe confusion matrix is:\")\n",
    "print(bn_matrix)\n",
    "\n",
    "\n",
    "FeatureImp = MyDT.feature_importances_  \n",
    "indices = np.argsort(FeatureImp)[::-1]\n",
    "## print out the important features.....\n",
    "for f in range(TrainDF.shape[1]):\n",
    "    if FeatureImp[indices[f]] > 0:\n",
    "        print(\"%d. feature %d (%f)\" % (f + 1, indices[f], FeatureImp[indices[f]]))\n",
    "        print(\"feature name: \", feature_names[indices[f]])\n"
   ]
  },
  {
   "cell_type": "code",
   "execution_count": 73,
   "metadata": {},
   "outputs": [],
   "source": [
    "accuracy = accuracy_score(TestLabels,DT_pred)\n",
    "reportdt = classification_report(TestLabels, DT_pred, output_dict=True)\n",
    "dfdt = pd.DataFrame(reportdt).transpose()"
   ]
  },
  {
   "cell_type": "code",
   "execution_count": 74,
   "metadata": {},
   "outputs": [
    {
     "name": "stdout",
     "output_type": "stream",
     "text": [
      "DT Classification report:\n",
      "Accuracy:  0.7985\n"
     ]
    },
    {
     "data": {
      "text/html": [
       "<div>\n",
       "<style scoped>\n",
       "    .dataframe tbody tr th:only-of-type {\n",
       "        vertical-align: middle;\n",
       "    }\n",
       "\n",
       "    .dataframe tbody tr th {\n",
       "        vertical-align: top;\n",
       "    }\n",
       "\n",
       "    .dataframe thead th {\n",
       "        text-align: right;\n",
       "    }\n",
       "</style>\n",
       "<table border=\"1\" class=\"dataframe\">\n",
       "  <thead>\n",
       "    <tr style=\"text-align: right;\">\n",
       "      <th></th>\n",
       "      <th>precision</th>\n",
       "      <th>recall</th>\n",
       "      <th>f1-score</th>\n",
       "      <th>support</th>\n",
       "    </tr>\n",
       "  </thead>\n",
       "  <tbody>\n",
       "    <tr>\n",
       "      <th>non-suicide</th>\n",
       "      <td>0.784639</td>\n",
       "      <td>0.827438</td>\n",
       "      <td>0.805471</td>\n",
       "      <td>3025.0000</td>\n",
       "    </tr>\n",
       "    <tr>\n",
       "      <th>suicide</th>\n",
       "      <td>0.814235</td>\n",
       "      <td>0.769076</td>\n",
       "      <td>0.791011</td>\n",
       "      <td>2975.0000</td>\n",
       "    </tr>\n",
       "    <tr>\n",
       "      <th>accuracy</th>\n",
       "      <td>0.798500</td>\n",
       "      <td>0.798500</td>\n",
       "      <td>0.798500</td>\n",
       "      <td>0.7985</td>\n",
       "    </tr>\n",
       "    <tr>\n",
       "      <th>macro avg</th>\n",
       "      <td>0.799437</td>\n",
       "      <td>0.798257</td>\n",
       "      <td>0.798241</td>\n",
       "      <td>6000.0000</td>\n",
       "    </tr>\n",
       "    <tr>\n",
       "      <th>weighted avg</th>\n",
       "      <td>0.799314</td>\n",
       "      <td>0.798500</td>\n",
       "      <td>0.798301</td>\n",
       "      <td>6000.0000</td>\n",
       "    </tr>\n",
       "  </tbody>\n",
       "</table>\n",
       "</div>"
      ],
      "text/plain": [
       "              precision    recall  f1-score    support\n",
       "non-suicide    0.784639  0.827438  0.805471  3025.0000\n",
       "suicide        0.814235  0.769076  0.791011  2975.0000\n",
       "accuracy       0.798500  0.798500  0.798500     0.7985\n",
       "macro avg      0.799437  0.798257  0.798241  6000.0000\n",
       "weighted avg   0.799314  0.798500  0.798301  6000.0000"
      ]
     },
     "execution_count": 74,
     "metadata": {},
     "output_type": "execute_result"
    }
   ],
   "source": [
    "print(\"DT Classification report:\")\n",
    "print(\"Accuracy: \", accuracy)\n",
    "dfdt"
   ]
  },
  {
   "cell_type": "markdown",
   "metadata": {},
   "source": [
    "# Random Forest"
   ]
  },
  {
   "cell_type": "code",
   "execution_count": 75,
   "metadata": {},
   "outputs": [],
   "source": [
    "clf = RandomForestClassifier(max_depth=10)\n",
    "clf.fit(TrainDF, TrainLabels)\n",
    "y_predict_tfidf_2 = clf.predict(TestDF)\n",
    "\n",
    "clf.fit(TrainDF, TrainLabels)\n",
    "y_predict_tfidf_n12_2 = clf.predict(TestDF)"
   ]
  },
  {
   "cell_type": "code",
   "execution_count": 76,
   "metadata": {},
   "outputs": [],
   "source": [
    "RandomForest_tfidf_results=metrics.precision_recall_fscore_support(TestLabels, y_predict_tfidf_2)\n",
    "RandomForest_tfidf_n12_results=metrics.precision_recall_fscore_support(TestLabels, y_predict_tfidf_n12_2)"
   ]
  },
  {
   "cell_type": "code",
   "execution_count": 77,
   "metadata": {},
   "outputs": [],
   "source": [
    "RandomForest_tfidf_acc= metrics.accuracy_score(TestLabels, y_predict_tfidf_2)\n",
    "RandomForest_tfidf_n12_acc=metrics.accuracy_score(TestLabels, y_predict_tfidf_n12_2)"
   ]
  },
  {
   "cell_type": "code",
   "execution_count": 78,
   "metadata": {},
   "outputs": [],
   "source": [
    "reportrf = classification_report(TestLabels, y_predict_tfidf_n12_2, output_dict=True)\n",
    "dfrf = pd.DataFrame(reportdt).transpose()"
   ]
  },
  {
   "cell_type": "code",
   "execution_count": 79,
   "metadata": {},
   "outputs": [
    {
     "data": {
      "text/html": [
       "<div>\n",
       "<style scoped>\n",
       "    .dataframe tbody tr th:only-of-type {\n",
       "        vertical-align: middle;\n",
       "    }\n",
       "\n",
       "    .dataframe tbody tr th {\n",
       "        vertical-align: top;\n",
       "    }\n",
       "\n",
       "    .dataframe thead th {\n",
       "        text-align: right;\n",
       "    }\n",
       "</style>\n",
       "<table border=\"1\" class=\"dataframe\">\n",
       "  <thead>\n",
       "    <tr style=\"text-align: right;\">\n",
       "      <th></th>\n",
       "      <th>precision</th>\n",
       "      <th>recall</th>\n",
       "      <th>f1-score</th>\n",
       "      <th>support</th>\n",
       "    </tr>\n",
       "  </thead>\n",
       "  <tbody>\n",
       "    <tr>\n",
       "      <th>non-suicide</th>\n",
       "      <td>0.784639</td>\n",
       "      <td>0.827438</td>\n",
       "      <td>0.805471</td>\n",
       "      <td>3025.0000</td>\n",
       "    </tr>\n",
       "    <tr>\n",
       "      <th>suicide</th>\n",
       "      <td>0.814235</td>\n",
       "      <td>0.769076</td>\n",
       "      <td>0.791011</td>\n",
       "      <td>2975.0000</td>\n",
       "    </tr>\n",
       "    <tr>\n",
       "      <th>accuracy</th>\n",
       "      <td>0.798500</td>\n",
       "      <td>0.798500</td>\n",
       "      <td>0.798500</td>\n",
       "      <td>0.7985</td>\n",
       "    </tr>\n",
       "    <tr>\n",
       "      <th>macro avg</th>\n",
       "      <td>0.799437</td>\n",
       "      <td>0.798257</td>\n",
       "      <td>0.798241</td>\n",
       "      <td>6000.0000</td>\n",
       "    </tr>\n",
       "    <tr>\n",
       "      <th>weighted avg</th>\n",
       "      <td>0.799314</td>\n",
       "      <td>0.798500</td>\n",
       "      <td>0.798301</td>\n",
       "      <td>6000.0000</td>\n",
       "    </tr>\n",
       "  </tbody>\n",
       "</table>\n",
       "</div>"
      ],
      "text/plain": [
       "              precision    recall  f1-score    support\n",
       "non-suicide    0.784639  0.827438  0.805471  3025.0000\n",
       "suicide        0.814235  0.769076  0.791011  2975.0000\n",
       "accuracy       0.798500  0.798500  0.798500     0.7985\n",
       "macro avg      0.799437  0.798257  0.798241  6000.0000\n",
       "weighted avg   0.799314  0.798500  0.798301  6000.0000"
      ]
     },
     "execution_count": 79,
     "metadata": {},
     "output_type": "execute_result"
    }
   ],
   "source": [
    "dfrf"
   ]
  },
  {
   "cell_type": "code",
   "execution_count": 80,
   "metadata": {},
   "outputs": [],
   "source": [
    "data2 = [['TF-IDF','TF-IDF 2-grams'],\n",
    "         ['precision',RandomForest_tfidf_results[0][0],RandomForest_tfidf_n12_results[0][0]],\n",
    "         ['recall',RandomForest_tfidf_results[1][0],RandomForest_tfidf_n12_results[1][0]],\n",
    "         ['F1-score',RandomForest_tfidf_results[2][0],RandomForest_tfidf_n12_results[2][0]],\n",
    "        ['accuracy',RandomForest_tfidf_acc,RandomForest_tfidf_n12_acc]]"
   ]
  },
  {
   "cell_type": "code",
   "execution_count": 81,
   "metadata": {},
   "outputs": [
    {
     "name": "stdout",
     "output_type": "stream",
     "text": [
      "╒═══════════╤══════════╤══════════════════╕\n",
      "│           │   TF-IDF │   TF-IDF 2-grams │\n",
      "╞═══════════╪══════════╪══════════════════╡\n",
      "│ precision │ 0.832919 │         0.833854 │\n",
      "├───────────┼──────────┼──────────────────┤\n",
      "│ recall    │ 0.886612 │         0.882645 │\n",
      "├───────────┼──────────┼──────────────────┤\n",
      "│ F1-score  │ 0.858927 │         0.857556 │\n",
      "├───────────┼──────────┼──────────────────┤\n",
      "│ accuracy  │ 0.853167 │         0.852167 │\n",
      "╘═══════════╧══════════╧══════════════════╛\n"
     ]
    }
   ],
   "source": [
    "print(tabulate(data2,headers='firstrow',tablefmt='fancy_grid'))"
   ]
  },
  {
   "cell_type": "code",
   "execution_count": 82,
   "metadata": {},
   "outputs": [],
   "source": [
    "def plot_results(data):\n",
    "    \n",
    "    barWidth = 0.15\n",
    "    # set heights of bars\n",
    "\n",
    "    bars1 = [data[0][1],data[1][1], data[2][1]]\n",
    "    bars2 = [data[0][2], data[1][2], data[2][2]]\n",
    "    \n",
    "\n",
    "    # Set position of bar on X axis\n",
    "    r1 = np.arange(len(bars1))\n",
    "    r2 = [x + barWidth for x in r1]\n",
    "    \n",
    "\n",
    "    # Make the plot\n",
    "    plt.bar(r1, bars1, color='r', width=barWidth, edgecolor='white', label='tfidf')\n",
    "    plt.bar(r2, bars2, color='b', width=barWidth, edgecolor='white', label='tfidf_n12')\n",
    "    \n",
    "\n",
    "    # Add xticks on the middle of the group bars\n",
    "    plt.xlabel('group', fontweight='bold')\n",
    "    plt.xticks([r + barWidth for r in range(len(bars1))], ['precision', 'recall', 'f1-score'])\n",
    "\n",
    "    # Create legend & Show graphic\n",
    "    plt.legend()\n",
    "    plt.grid()\n",
    "    plt.show()"
   ]
  },
  {
   "cell_type": "code",
   "execution_count": 83,
   "metadata": {},
   "outputs": [
    {
     "data": {
      "image/png": "[encoded data removed]",
      "text/plain": [
       "<Figure size 432x288 with 1 Axes>"
      ]
     },
     "metadata": {
      "needs_background": "light"
     },
     "output_type": "display_data"
    }
   ],
   "source": [
    "plot_results(data2[1:])"
   ]
  },
  {
   "cell_type": "code",
   "execution_count": null,
   "metadata": {},
   "outputs": [],
   "source": []
  },
  {
   "cell_type": "code",
   "execution_count": null,
   "metadata": {},
   "outputs": [],
   "source": []
  },
  {
   "cell_type": "code",
   "execution_count": null,
   "metadata": {},
   "outputs": [],
   "source": []
  },
  {
   "cell_type": "code",
   "execution_count": null,
   "metadata": {},
   "outputs": [],
   "source": []
  },
  {
   "cell_type": "code",
   "execution_count": null,
   "metadata": {},
   "outputs": [],
   "source": []
  },
  {
   "cell_type": "code",
   "execution_count": null,
   "metadata": {},
   "outputs": [],
   "source": []
  },
  {
   "cell_type": "code",
   "execution_count": null,
   "metadata": {},
   "outputs": [],
   "source": []
  }
 ],
 "metadata": {
  "kernelspec": {
   "display_name": "Python 3",
   "language": "python",
   "name": "python3"
  },
  "language_info": {
   "codemirror_mode": {
    "name": "ipython",
    "version": 3
   },
   "file_extension": ".py",
   "mimetype": "text/x-python",
   "name": "python",
   "nbconvert_exporter": "python",
   "pygments_lexer": "ipython3",
   "version": "3.8.5"
  }
 },
 "nbformat": 4,
 "nbformat_minor": 5
}
